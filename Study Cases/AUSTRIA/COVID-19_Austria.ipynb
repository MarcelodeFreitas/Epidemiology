{
 "cells": [
  {
   "cell_type": "markdown",
   "metadata": {},
   "source": [
    "# COVID-19 AUSTRIA"
   ]
  },
  {
   "cell_type": "markdown",
   "metadata": {},
   "source": [
    "Imports"
   ]
  },
  {
   "cell_type": "code",
   "execution_count": 1,
   "metadata": {},
   "outputs": [],
   "source": [
    "import sys\n",
    "import os\n",
    "from osgeo import ogr\n",
    "import numpy as np\n",
    "import matplotlib.pyplot as plt\n",
    "import pandas as pd\n",
    "from qgis.core import *\n",
    "from qgis.PyQt.QtGui import *\n",
    "from qgis.PyQt.QtCore import *\n",
    "from IPython.display import Image"
   ]
  },
  {
   "cell_type": "markdown",
   "metadata": {},
   "source": [
    "Start Qgis with GUI and start a project"
   ]
  },
  {
   "cell_type": "code",
   "execution_count": 2,
   "metadata": {},
   "outputs": [
    {
     "name": "stdout",
     "output_type": "stream",
     "text": [
      "Application state:\n",
      "QGIS_PREFIX_PATH env var:\t\tC:/OSGEO4~1/apps/qgis\n",
      "Prefix:\t\tC:/OSGEO4~1/apps/qgis\n",
      "Plugin Path:\t\tC:/OSGEO4~1/apps/qgis/plugins\n",
      "Package Data Path:\tC:/OSGEO4~1/apps/qgis/.\n",
      "Active Theme Name:\t\n",
      "Active Theme Path:\tC:/OSGEO4~1/apps/qgis/./resources/themes\\\\icons/\n",
      "Default Theme Path:\t:/images/themes/default/\n",
      "SVG Search Paths:\tC:\\OSGeo4W64\\apps\\qgis/./svg/\n",
      "\t\tC:/OSGEO4~1/apps/qgis/./svg/\n",
      "\t\tC:/Users/Marcelo/AppData/Roaming/python3\\profiles\\default/svg/\n",
      "User DB Path:\tC:/OSGEO4~1/apps/qgis/./resources/qgis.db\n",
      "Auth DB Path:\tC:/Users/Marcelo/AppData/Roaming/python3\\profiles\\default/qgis-auth.db\n",
      "\n"
     ]
    }
   ],
   "source": [
    "qgis_path = r\"C:\\OSGeo4W64\\apps\\qgis\"\n",
    "QgsApplication.setPrefixPath(qgis_path, True)\n",
    "qgs = QgsApplication([], True)\n",
    "qgs.initQgis()\n",
    "sys.path.append(r\"C:\\OSGeo4W64\\apps\\qgis\\python\\plugins\")\n",
    "project = QgsProject.instance()\n",
    "print(QgsApplication.showSettings())"
   ]
  },
  {
   "cell_type": "markdown",
   "metadata": {},
   "source": [
    "Download Map"
   ]
  },
  {
   "cell_type": "code",
   "execution_count": 3,
   "metadata": {},
   "outputs": [
    {
     "data": {
      "text/plain": [
       "('map/AUT_adm.zip', <http.client.HTTPMessage at 0x1ef40bfc208>)"
      ]
     },
     "execution_count": 3,
     "metadata": {},
     "output_type": "execute_result"
    }
   ],
   "source": [
    "import urllib.request\n",
    "url = 'https://data.biogeo.ucdavis.edu/data/diva/adm/AUT_adm.zip'\n",
    "filename = 'map/AUT_adm.zip'\n",
    "urllib.request.urlretrieve(url, filename)"
   ]
  },
  {
   "cell_type": "markdown",
   "metadata": {},
   "source": [
    "Unzip Map"
   ]
  },
  {
   "cell_type": "code",
   "execution_count": 4,
   "metadata": {},
   "outputs": [],
   "source": [
    "import zipfile\n",
    "filename = 'map/AUT_adm.zip'\n",
    "with zipfile.ZipFile(filename, 'r') as zip_ref:\n",
    "    zip_ref.extractall('map')"
   ]
  },
  {
   "cell_type": "markdown",
   "metadata": {},
   "source": [
    "Load map layer"
   ]
  },
  {
   "cell_type": "code",
   "execution_count": 5,
   "metadata": {},
   "outputs": [
    {
     "name": "stdout",
     "output_type": "stream",
     "text": [
      "Sucess\n"
     ]
    }
   ],
   "source": [
    "path = \"map/AUT_adm1.shp\"\n",
    "map_layer = QgsVectorLayer(path, 'AUSTRIA map', 'ogr')\n",
    "\n",
    "pr = map_layer.dataProvider() # need to create a data provider\n",
    "pr.addAttributes([QgsField(\"\",  QVariant.Int)]) # define/add field data type\n",
    "map_layer.updateFields()\n",
    "\n",
    "if not map_layer.isValid():\n",
    "    print(\"Failed to load the layer!\")\n",
    "else:\n",
    "    project.addMapLayer(map_layer)\n",
    "    print(\"Sucess\")"
   ]
  },
  {
   "cell_type": "markdown",
   "metadata": {},
   "source": [
    "Download csv file"
   ]
  },
  {
   "cell_type": "code",
   "execution_count": 6,
   "metadata": {},
   "outputs": [
    {
     "data": {
      "text/plain": [
       "('covid_data/covid-19-at.csv', <http.client.HTTPMessage at 0x1ef40c1aa58>)"
      ]
     },
     "execution_count": 6,
     "metadata": {},
     "output_type": "execute_result"
    }
   ],
   "source": [
    "import urllib.request\n",
    "url = 'https://raw.githubusercontent.com/covid19-eu-zh/covid19-eu-data/master/dataset/covid-19-at.csv'\n",
    "filename = 'covid_data/covid-19-at.csv'\n",
    "urllib.request.urlretrieve(url, filename)"
   ]
  },
  {
   "cell_type": "markdown",
   "metadata": {},
   "source": [
    "Get most recent data from csv file"
   ]
  },
  {
   "cell_type": "code",
   "execution_count": 7,
   "metadata": {},
   "outputs": [
    {
     "name": "stdout",
     "output_type": "stream",
     "text": [
      "Today's date: 05/29/2020\n",
      "Safe date: 20-05-27\n",
      "Most recent date:  2018-06-29 08:15:27\n"
     ]
    }
   ],
   "source": [
    "import csv\n",
    "import datetime\n",
    "from datetime import date\n",
    "\n",
    "today = date.today()\n",
    "today = today.strftime(\"%m/%d/%Y\")\n",
    "print(\"Today's date:\", today)\n",
    "\n",
    "safe_date = date.today()-datetime.timedelta(2)\n",
    "safe = safe_date.strftime(\"%y-%m-%d\")\n",
    "print(\"Safe date:\", safe)\n",
    "\n",
    "date_time_str = '2018-06-29T08:15:27'\n",
    "date_time_obj = datetime.datetime.strptime(date_time_str, '%Y-%m-%dT%H:%M:%S')\n",
    "\n",
    "with open('covid_data/covid-19-at.csv', 'r') as i, open('covid_data/covid-19-austria.csv', 'w', newline='') as o:\n",
    "    r = csv.reader(i, delimiter=',')\n",
    "    writer = csv.writer(o)\n",
    "    writer.writerow([\"country\", \"name\", \"cases\", \"recovered\", \"deaths\", \"tests\", \"hospitalized\", \"intensive_care\", \"datetime\"])\n",
    "    #for row in r:\n",
    "    #    if row[8] == \"2020-05-09T15:00:00\": \n",
    "    #        writer.writerow(row)\n",
    "    #        print(row)\n",
    "    max_value = date_time_obj\n",
    "    #most recent date\n",
    "    for row in r:\n",
    "        if today in row[8]:\n",
    "            date_time = row[8]\n",
    "            date_time_object = datetime.datetime.strptime(date_time, '%Y-%m-%dT%H:%M:%S')\n",
    "            if date_time_object > max_value: \n",
    "                max_value = date_time_object\n",
    "    print(\"Most recent date: \", max_value)\n",
    "    \n",
    "                \n",
    "                \n",
    "                \n",
    "with open('covid_data/covid-19-at.csv', 'r') as i, open('covid_data/covid-19-austria.csv', 'w', newline='') as o:\n",
    "    r = csv.reader(i, delimiter=',')\n",
    "    writer = csv.writer(o)\n",
    "    writer.writerow([\"country\", \"name\", \"cases\", \"recovered\", \"deaths\", \"tests\", \"hospitalized\", \"intensive_care\", \"datetime\"])\n",
    "                \n",
    "    #create csv with most recent data           \n",
    "    for row in r:\n",
    "        if today in row[8]:\n",
    "            date_time = row[8]\n",
    "            date_time_object = datetime.datetime.strptime(date_time, '%Y-%m-%dT%H:%M:%S')\n",
    "            if date_time_object == max_value: \n",
    "                writer.writerow(row)\n",
    "                print(row)    \n",
    "        \n",
    "\n",
    "        "
   ]
  },
  {
   "cell_type": "markdown",
   "metadata": {},
   "source": [
    "Load csv file"
   ]
  },
  {
   "cell_type": "code",
   "execution_count": 8,
   "metadata": {},
   "outputs": [
    {
     "name": "stdout",
     "output_type": "stream",
     "text": [
      "Sucess\n"
     ]
    }
   ],
   "source": [
    "csv_path = \"file:covid_data/covid-19-austria.csv?delimiter=(',')\"\n",
    "csv_layer = QgsVectorLayer(csv_path, 'Data', 'delimitedtext')\n",
    "\n",
    "if not csv_layer.isValid():\n",
    "    print('Layer failed to load!')\n",
    "else:\n",
    "    project.addMapLayer(csv_layer)\n",
    "    print(\"Sucess\")"
   ]
  },
  {
   "cell_type": "markdown",
   "metadata": {},
   "source": [
    "Join layer"
   ]
  },
  {
   "cell_type": "code",
   "execution_count": 9,
   "metadata": {},
   "outputs": [],
   "source": [
    "joinName = 'name'\n",
    "targetName = 'NAME_1'\n",
    "\n",
    "joinObject = QgsVectorLayerJoinInfo()\n",
    "joinObject.setJoinFieldName(joinName)\n",
    "joinObject.setTargetFieldName(targetName)\n",
    "joinObject.setJoinLayerId(csv_layer.id())\n",
    "joinObject.setUsingMemoryCache(True)\n",
    "joinObject.setJoinLayer(csv_layer)\n",
    "flag = map_layer.addJoin(joinObject)"
   ]
  },
  {
   "cell_type": "markdown",
   "metadata": {},
   "source": [
    "## Data in Graphs"
   ]
  },
  {
   "cell_type": "code",
   "execution_count": 10,
   "metadata": {
    "scrolled": false
   },
   "outputs": [],
   "source": [
    "dict = []\n",
    "\n",
    "for feature in map_layer.getFeatures():\n",
    "    if feature['NAME_1']:\n",
    "        state = feature['NAME_1']\n",
    "        if feature['Data_deaths']:\n",
    "            death = feature['Data_deaths']\n",
    "        else:\n",
    "            death = 0\n",
    "        if feature['Data_cases']:\n",
    "            confirmed = feature['Data_cases']\n",
    "        else:\n",
    "            confirmed = 0\n",
    "        if feature['Data_recovered']:\n",
    "            recovered = feature['Data_recovered']\n",
    "        else:\n",
    "            recovered = 0\n",
    "        if feature['Data_tests']:\n",
    "            tests = feature['Data_tests']\n",
    "        else:\n",
    "            tests = 0\n",
    "        if feature['Data_hospitalized']:\n",
    "            hospitalized = feature['Data_hospitalized']\n",
    "        else:\n",
    "            hospitalized = 0\n",
    "        if feature['Data_intensive_care']:\n",
    "            intensive_care = feature['Data_intensive_care']\n",
    "        else:\n",
    "            intensive_care = 0\n",
    "        \n",
    "    e = {'Name': state, 'Confirmed': confirmed, 'Death': death, 'Recovered': recovered, 'Tests': tests, 'Hospitalized': hospitalized, 'Intensive Care': intensive_care }\n",
    "    dict.append(e)"
   ]
  },
  {
   "cell_type": "code",
   "execution_count": 11,
   "metadata": {},
   "outputs": [],
   "source": [
    "size = len(dict)-5\n",
    "\n",
    "c = sorted(dict, key = lambda i: i['Confirmed'],reverse=True)\n",
    "d = sorted(dict, key = lambda i: i['Death'],reverse=True)\n",
    "r = sorted(dict, key = lambda i: i['Recovered'],reverse=True)\n",
    "t = sorted(dict, key = lambda i: i['Tests'],reverse=True)\n",
    "h = sorted(dict, key = lambda i: i['Hospitalized'],reverse=True)\n",
    "i = sorted(dict, key = lambda i: i['Intensive Care'],reverse=True)\n",
    "\n",
    "top5confirmed = c[0:5]\n",
    "top5death = d[0:5]\n",
    "top5recovered = r[0:5]\n",
    "top5tests = t[0:5]\n",
    "top5hospitalized = h[0:5]\n",
    "top5intensive_care = i[0:5]\n",
    "\n",
    "bottom5confirmed = c[size:]\n",
    "bottom5death = d[size:]\n",
    "bottom5recovered = r[size:]\n",
    "bottom5tests = r[size:]\n",
    "bottom5hospitalized = h[size:]\n",
    "bottom5intensive_care = i[size:]\n"
   ]
  },
  {
   "cell_type": "markdown",
   "metadata": {},
   "source": [
    "### Top 5 Cases Confirmed"
   ]
  },
  {
   "cell_type": "code",
   "execution_count": 12,
   "metadata": {},
   "outputs": [
    {
     "data": {
      "image/png": "[encoded data removed]",
      "text/plain": [
       "<Figure size 432x288 with 1 Axes>"
      ]
     },
     "metadata": {
      "needs_background": "light"
     },
     "output_type": "display_data"
    }
   ],
   "source": [
    "delta1 = [c[0]['Confirmed'],c[1]['Confirmed'],c[2]['Confirmed'],c[3]['Confirmed'],c[4]['Confirmed']]\n",
    "states = [c[0]['Name'],c[1]['Name'],c[2]['Name'],c[3]['Name'],c[4]['Name']]\n",
    "\n",
    "fig, ax = plt.subplots()\n",
    "index = np.arange(5)\n",
    "bar_width = 0.35\n",
    "\n",
    "rects1 = plt.bar(index, delta1, bar_width, align='center', label='Cases Confirmed')\n",
    "\n",
    "\n",
    "plt.ylabel('Cases Confirmed')\n",
    "plt.title('Top 5 states with confirmed cases')\n",
    "plt.xticks(index + bar_width,states, rotation=-30)\n",
    "plt.legend()\n",
    "plt.grid(color='#95a5a6', linestyle='--', linewidth=1, axis='y', alpha=0.5)\n",
    "plt.savefig('images/top5_cases_confirmed.png', dpi=300, format='png')\n",
    "plt.tight_layout()\n",
    "plt.show()\n",
    "\n"
   ]
  },
  {
   "cell_type": "markdown",
   "metadata": {},
   "source": [
    "### Bottom 5 Cases Confirmed"
   ]
  },
  {
   "cell_type": "code",
   "execution_count": 13,
   "metadata": {},
   "outputs": [
    {
     "data": {
      "image/png": "[encoded data removed]",
      "text/plain": [
       "<Figure size 432x288 with 1 Axes>"
      ]
     },
     "metadata": {
      "needs_background": "light"
     },
     "output_type": "display_data"
    }
   ],
   "source": [
    "delta1 = [bottom5confirmed[0]['Confirmed'],bottom5confirmed[1]['Confirmed'],bottom5confirmed[2]['Confirmed'],bottom5confirmed[3]['Confirmed'],bottom5confirmed[4]['Confirmed']]\n",
    "states = [bottom5confirmed[0]['Name'],bottom5confirmed[1]['Name'],bottom5confirmed[2]['Name'],bottom5confirmed[3]['Name'],bottom5confirmed[4]['Name']]\n",
    "\n",
    "fig, ax = plt.subplots()\n",
    "index = np.arange(5)\n",
    "bar_width = 0.35\n",
    "\n",
    "rects1 = plt.bar(index, delta1, bar_width, label='Confirmed cases')\n",
    "\n",
    "plt.ylabel('Confirmed cases')\n",
    "plt.title('Bottom 5 states with confirmed cases')\n",
    "plt.xticks(index + bar_width,states,)\n",
    "plt.legend()\n",
    "plt.grid(color='#95a5a6', linestyle='--', linewidth=1, axis='y', alpha=0.5)\n",
    "plt.savefig('images/bottom5_cases_confirmed.png', dpi=300, format='png')\n",
    "plt.tight_layout()\n",
    "plt.show()"
   ]
  },
  {
   "cell_type": "markdown",
   "metadata": {},
   "source": [
    "### Top 5 Deaths"
   ]
  },
  {
   "cell_type": "code",
   "execution_count": 14,
   "metadata": {},
   "outputs": [
    {
     "data": {
      "image/png": "[encoded data removed]",
      "text/plain": [
       "<Figure size 432x288 with 1 Axes>"
      ]
     },
     "metadata": {
      "needs_background": "light"
     },
     "output_type": "display_data"
    }
   ],
   "source": [
    "delta1 = [top5death[0]['Death'],top5death[1]['Death'],top5death[2]['Death'],top5death[3]['Death'],top5death[4]['Death']]\n",
    "states = [top5death[0]['Name'],top5death[1]['Name'],top5death[2]['Name'],top5death[3]['Name'],top5death[4]['Name']]\n",
    "\n",
    "fig, ax = plt.subplots()\n",
    "index = np.arange(5)\n",
    "bar_width = 0.35\n",
    "\n",
    "rects1 = plt.bar(index, delta1, bar_width, label='Deaths')\n",
    "\n",
    "plt.ylabel('Number of deaths')\n",
    "plt.title('Top 5 states with more deaths')\n",
    "plt.xticks(index + bar_width,states,)\n",
    "plt.legend()\n",
    "plt.grid(color='#95a5a6', linestyle='--', linewidth=1, axis='y', alpha=0.5)\n",
    "plt.savefig('images/top5_deaths_confirmed.png', dpi=300, format='png')\n",
    "plt.tight_layout()\n",
    "plt.show()"
   ]
  },
  {
   "cell_type": "markdown",
   "metadata": {},
   "source": [
    "### Bottom 5 Mortes"
   ]
  },
  {
   "cell_type": "code",
   "execution_count": 15,
   "metadata": {},
   "outputs": [
    {
     "data": {
      "image/png": "[encoded data removed]",
      "text/plain": [
       "<Figure size 432x288 with 1 Axes>"
      ]
     },
     "metadata": {
      "needs_background": "light"
     },
     "output_type": "display_data"
    }
   ],
   "source": [
    "delta1 = [bottom5death[0]['Death'],bottom5death[1]['Death'],bottom5death[2]['Death'],bottom5death[3]['Death'],bottom5death[4]['Death']]\n",
    "states = [bottom5death[0]['Name'],bottom5death[1]['Name'],bottom5death[2]['Name'],bottom5death[3]['Name'],bottom5death[4]['Name']]\n",
    "\n",
    "fig, ax = plt.subplots()\n",
    "index = np.arange(5)\n",
    "bar_width = 0.35\n",
    "\n",
    "rects1 = plt.bar(index, delta1, bar_width, label='Deaths')\n",
    "\n",
    "plt.ylabel('Number of deaths')\n",
    "plt.title('Bottom 5 states with less deaths')\n",
    "plt.xticks(index + bar_width,states,)\n",
    "plt.legend()\n",
    "plt.grid(color='#95a5a6', linestyle='--', linewidth=1, axis='y', alpha=0.5)\n",
    "plt.savefig('images/bottom5_deaths_confirmed.png', dpi=300, format='png')\n",
    "plt.tight_layout()\n",
    "plt.show()"
   ]
  },
  {
   "cell_type": "markdown",
   "metadata": {},
   "source": [
    "### Top 5 Recovered cases"
   ]
  },
  {
   "cell_type": "code",
   "execution_count": 16,
   "metadata": {
    "scrolled": true
   },
   "outputs": [
    {
     "data": {
      "image/png": "[encoded data removed]",
      "text/plain": [
       "<Figure size 432x288 with 1 Axes>"
      ]
     },
     "metadata": {
      "needs_background": "light"
     },
     "output_type": "display_data"
    }
   ],
   "source": [
    "delta1 = [top5recovered[0]['Recovered'],top5recovered[1]['Recovered'],top5recovered[2]['Recovered'],top5recovered[3]['Recovered'],top5recovered[4]['Recovered']]\n",
    "states = [top5recovered[0]['Name'],top5recovered[1]['Name'],top5recovered[2]['Name'],top5recovered[3]['Name'],top5recovered[4]['Name']]\n",
    "\n",
    "fig, ax = plt.subplots()\n",
    "index = np.arange(5)\n",
    "bar_width = 0.35\n",
    "\n",
    "rects1 = plt.bar(index, delta1, bar_width, label='Recovered cases')\n",
    "\n",
    "plt.ylabel('Number of recoveries')\n",
    "plt.title('Top 5 states with more recoveries')\n",
    "plt.xticks(index + bar_width,states,)\n",
    "plt.legend()\n",
    "plt.grid(color='#95a5a6', linestyle='--', linewidth=1, axis='y', alpha=0.5)\n",
    "plt.savefig('images/top5_recovered.png', dpi=300, format='png')\n",
    "plt.tight_layout()\n",
    "plt.show()"
   ]
  },
  {
   "cell_type": "markdown",
   "metadata": {},
   "source": [
    "### Bottom 5 Recovered Cases"
   ]
  },
  {
   "cell_type": "code",
   "execution_count": 17,
   "metadata": {},
   "outputs": [
    {
     "data": {
      "image/png": "[encoded data removed]",
      "text/plain": [
       "<Figure size 432x288 with 1 Axes>"
      ]
     },
     "metadata": {
      "needs_background": "light"
     },
     "output_type": "display_data"
    }
   ],
   "source": [
    "delta1 = [bottom5recovered[0]['Recovered'],bottom5recovered[1]['Recovered'],bottom5recovered[2]['Recovered'],top5recovered[3]['Recovered'],top5recovered[4]['Recovered']]\n",
    "states = [bottom5recovered[0]['Name'],bottom5recovered[1]['Name'],bottom5recovered[2]['Name'],bottom5recovered[3]['Name'],bottom5recovered[4]['Name']]\n",
    "\n",
    "fig, ax = plt.subplots()\n",
    "index = np.arange(5)\n",
    "bar_width = 0.35\n",
    "\n",
    "rects1 = plt.bar(index, delta1, bar_width, label='Recovered cases')\n",
    "\n",
    "plt.ylabel('Number of recoveries')\n",
    "plt.title('Bottom 5 states with less recoveries')\n",
    "plt.xticks(index + bar_width,states,)\n",
    "plt.legend()\n",
    "plt.grid(color='#95a5a6', linestyle='--', linewidth=1, axis='y', alpha=0.5)\n",
    "plt.savefig('images/bottom5_recovered.png', dpi=300, format='png')\n",
    "plt.tight_layout()\n",
    "plt.show()"
   ]
  },
  {
   "cell_type": "markdown",
   "metadata": {},
   "source": [
    "### Top 5 Tests"
   ]
  },
  {
   "cell_type": "code",
   "execution_count": 18,
   "metadata": {},
   "outputs": [
    {
     "data": {
      "image/png": "[encoded data removed]",
      "text/plain": [
       "<Figure size 432x288 with 1 Axes>"
      ]
     },
     "metadata": {
      "needs_background": "light"
     },
     "output_type": "display_data"
    }
   ],
   "source": [
    "delta1 = [top5tests[0]['Tests'],top5tests[1]['Tests'],top5tests[2]['Tests'],top5tests[3]['Tests'],top5tests[4]['Tests']]\n",
    "states = [top5tests[0]['Name'],top5tests[1]['Name'],top5tests[2]['Name'],top5tests[3]['Name'],top5tests[4]['Name']]\n",
    "\n",
    "fig, ax = plt.subplots()\n",
    "index = np.arange(5)\n",
    "bar_width = 0.35\n",
    "\n",
    "rects1 = plt.bar(index, delta1, bar_width, label='Tested')\n",
    "\n",
    "plt.ylabel('Number of tests')\n",
    "plt.title('Top 5 states with more tests')\n",
    "plt.xticks(index + bar_width,states,)\n",
    "plt.legend()\n",
    "plt.grid(color='#95a5a6', linestyle='--', linewidth=1, axis='y', alpha=0.5)\n",
    "plt.savefig('images/top5_tests.png', dpi=300, format='png')\n",
    "plt.tight_layout()\n",
    "plt.show()"
   ]
  },
  {
   "cell_type": "markdown",
   "metadata": {},
   "source": [
    "### Bottom 5 Tests"
   ]
  },
  {
   "cell_type": "code",
   "execution_count": 19,
   "metadata": {},
   "outputs": [
    {
     "data": {
      "image/png": "[encoded data removed]",
      "text/plain": [
       "<Figure size 432x288 with 1 Axes>"
      ]
     },
     "metadata": {
      "needs_background": "light"
     },
     "output_type": "display_data"
    }
   ],
   "source": [
    "delta1 = [bottom5tests[0]['Tests'],bottom5tests[1]['Tests'],bottom5tests[2]['Tests'],bottom5tests[3]['Tests'],bottom5tests[4]['Tests']]\n",
    "states = [bottom5tests[0]['Name'],bottom5tests[1]['Name'],bottom5tests[2]['Name'],bottom5tests[3]['Name'],bottom5tests[4]['Name']]\n",
    "\n",
    "fig, ax = plt.subplots()\n",
    "index = np.arange(5)\n",
    "bar_width = 0.35\n",
    "\n",
    "rects1 = plt.bar(index, delta1, bar_width, label='Tested')\n",
    "\n",
    "plt.ylabel('Number of tests')\n",
    "plt.title('Top 5 states with more tests')\n",
    "plt.xticks(index + bar_width,states,)\n",
    "plt.legend()\n",
    "plt.grid(color='#95a5a6', linestyle='--', linewidth=1, axis='y', alpha=0.5)\n",
    "plt.savefig('images/bottom5_tests.png', dpi=300, format='png')\n",
    "plt.tight_layout()\n",
    "plt.show()"
   ]
  },
  {
   "cell_type": "markdown",
   "metadata": {},
   "source": [
    "## Deaths in AUSTRIA by state"
   ]
  },
  {
   "cell_type": "code",
   "execution_count": 20,
   "metadata": {},
   "outputs": [
    {
     "name": "stdout",
     "output_type": "stream",
     "text": [
      "Empty DataFrame\n",
      "Columns: [country, name, cases, recovered, deaths, tests, hospitalized, intensive_care, datetime]\n",
      "Index: []\n",
      "Empty DataFrame\n",
      "Columns: [name, deaths]\n",
      "Index: []\n",
      "Series([], Name: name, dtype: object)\n"
     ]
    }
   ],
   "source": [
    "# Import Data\n",
    "df = pd.read_csv(\"covid_data/covid-19-austria.csv\")\n",
    "\n",
    "print(df.sort_values('cases', ascending=False))\n",
    "df2 = df[['name','deaths']]\n",
    "print(df[['name','deaths']])\n",
    "print(df2['name'])"
   ]
  },
  {
   "cell_type": "code",
   "execution_count": 21,
   "metadata": {},
   "outputs": [
    {
     "data": {
      "image/png": "[encoded data removed]",
      "text/plain": [
       "<Figure size 1600x800 with 1 Axes>"
      ]
     },
     "metadata": {
      "needs_background": "light"
     },
     "output_type": "display_data"
    }
   ],
   "source": [
    "import random\n",
    "\n",
    "# Import Data\n",
    "df_raw = pd.read_csv(\"covid_data/covid-19-austria.csv\")\n",
    "\n",
    "#print(df_raw)\n",
    "\n",
    "# Prepare Data\n",
    "df = df_raw[['name','deaths']]\n",
    "n = df['deaths'].unique().__len__()-1\n",
    "all_colors = list(plt.cm.colors.cnames.keys())\n",
    "random.seed(100)\n",
    "c = random.choices(all_colors, k=n)\n",
    "\n",
    "#print(df['name'].tolist(), df['deaths'])\n",
    "\n",
    "x = df['name'].tolist()[0:7]\n",
    "y = df['deaths'].tolist()[0:7]\n",
    "\n",
    "# Plot Bars\n",
    "plt.figure(figsize=(20,10), dpi= 80)\n",
    "plt.bar(x, y, color=c, width=.5)\n",
    "for i, val in enumerate(y):\n",
    "    plt.text(i, val, float(val), horizontalalignment='center', verticalalignment='bottom', fontdict={'fontweight':500, 'size':15})\n",
    "\n",
    "# Decoration\n",
    "plt.gca().set_xticklabels(df['name'], rotation=60, horizontalalignment= 'right')\n",
    "plt.title(\"Deaths in AUSTRIA by state\", fontsize=22)\n",
    "plt.ylabel('# Number of deaths')\n",
    "plt.grid(color='#95a5a6', linestyle='--', linewidth=1, axis='y', alpha=0.5)\n",
    "plt.savefig('images/deaths.png', dpi=300, format='png')\n",
    "plt.show()"
   ]
  },
  {
   "cell_type": "markdown",
   "metadata": {},
   "source": [
    "## Confirmed cases in AUSTRIA by state"
   ]
  },
  {
   "cell_type": "code",
   "execution_count": 22,
   "metadata": {},
   "outputs": [
    {
     "data": {
      "image/png": "[encoded data removed]",
      "text/plain": [
       "<Figure size 1600x800 with 1 Axes>"
      ]
     },
     "metadata": {
      "needs_background": "light"
     },
     "output_type": "display_data"
    }
   ],
   "source": [
    "import random\n",
    "\n",
    "# Import Data\n",
    "df_raw = pd.read_csv(\"covid_data/covid-19-austria.csv\")\n",
    "\n",
    "#print(df_raw)\n",
    "\n",
    "# Prepare Data\n",
    "df = df_raw[['name','cases']]\n",
    "n = df['cases'].unique().__len__()-1\n",
    "all_colors = list(plt.cm.colors.cnames.keys())\n",
    "random.seed(100)\n",
    "c = random.choices(all_colors, k=n)\n",
    "\n",
    "#print(df['name'].tolist(), df['deaths'])\n",
    "\n",
    "x = df['name'].tolist()[0:7]\n",
    "y = df['cases'].tolist()[0:7]\n",
    "\n",
    "# Plot Bars\n",
    "plt.figure(figsize=(20,10), dpi= 80)\n",
    "plt.bar(x, y, color=c, width=.5)\n",
    "for i, val in enumerate(y):\n",
    "    plt.text(i, val, float(val), horizontalalignment='center', verticalalignment='bottom', fontdict={'fontweight':500, 'size':15})\n",
    "\n",
    "# Decoration\n",
    "plt.gca().set_xticklabels(df['name'], rotation=60, horizontalalignment= 'right')\n",
    "plt.title(\"Confirmed cases in AUSTRIA by state\", fontsize=22)\n",
    "plt.ylabel('# Number of confirmed cases')\n",
    "plt.grid(color='#95a5a6', linestyle='--', linewidth=1, axis='y', alpha=0.5)\n",
    "plt.savefig('images/confirmed_cases.png', dpi=300, format='png')\n",
    "plt.show()"
   ]
  },
  {
   "cell_type": "markdown",
   "metadata": {},
   "source": [
    "## Recoveries in AUSTRIA by state"
   ]
  },
  {
   "cell_type": "code",
   "execution_count": 23,
   "metadata": {},
   "outputs": [
    {
     "data": {
      "image/png": "[encoded data removed]",
      "text/plain": [
       "<Figure size 1600x800 with 1 Axes>"
      ]
     },
     "metadata": {
      "needs_background": "light"
     },
     "output_type": "display_data"
    }
   ],
   "source": [
    "import random\n",
    "\n",
    "# Import Data\n",
    "df_raw = pd.read_csv(\"covid_data/covid-19-austria.csv\")\n",
    "\n",
    "#print(df_raw)\n",
    "\n",
    "# Prepare Data\n",
    "df = df_raw[['name','recovered']]\n",
    "n = df['recovered'].unique().__len__()-1\n",
    "all_colors = list(plt.cm.colors.cnames.keys())\n",
    "random.seed(100)\n",
    "c = random.choices(all_colors, k=n)\n",
    "\n",
    "#print(df['name'].tolist(), df['deaths'])\n",
    "\n",
    "x = df['name'].tolist()[0:7]\n",
    "y = df['recovered'].tolist()[0:7]\n",
    "\n",
    "# Plot Bars\n",
    "plt.figure(figsize=(20,10), dpi= 80)\n",
    "plt.bar(x, y, color=c, width=.5)\n",
    "for i, val in enumerate(y):\n",
    "    plt.text(i, val, float(val), horizontalalignment='center', verticalalignment='bottom', fontdict={'fontweight':500, 'size':15})\n",
    "\n",
    "# Decoration\n",
    "plt.gca().set_xticklabels(df['name'], rotation=60, horizontalalignment= 'right')\n",
    "plt.title(\"Recoveries in AUSTRIA by state\", fontsize=22)\n",
    "plt.ylabel('# Number of deaths')\n",
    "plt.grid(color='#95a5a6', linestyle='--', linewidth=1, axis='y', alpha=0.5)\n",
    "plt.savefig('images/confirmed_cases.png', dpi=300, format='png')\n",
    "plt.show()"
   ]
  },
  {
   "cell_type": "markdown",
   "metadata": {},
   "source": [
    "## Hospitalizations in AUSTRIA by state"
   ]
  },
  {
   "cell_type": "code",
   "execution_count": 24,
   "metadata": {},
   "outputs": [
    {
     "data": {
      "image/png": "[encoded data removed]",
      "text/plain": [
       "<Figure size 1600x800 with 1 Axes>"
      ]
     },
     "metadata": {
      "needs_background": "light"
     },
     "output_type": "display_data"
    }
   ],
   "source": [
    "import random\n",
    "\n",
    "# Import Data\n",
    "df_raw = pd.read_csv(\"covid_data/covid-19-austria.csv\")\n",
    "\n",
    "#print(df_raw)\n",
    "\n",
    "# Prepare Data\n",
    "df = df_raw[['name','hospitalized']]\n",
    "n = df['hospitalized'].unique().__len__()-1\n",
    "all_colors = list(plt.cm.colors.cnames.keys())\n",
    "random.seed(100)\n",
    "c = random.choices(all_colors, k=n)\n",
    "\n",
    "#print(df['name'].tolist(), df['deaths'])\n",
    "\n",
    "x = df['name'].tolist()[0:7]\n",
    "y = df['hospitalized'].tolist()[0:7]\n",
    "\n",
    "# Plot Bars\n",
    "plt.figure(figsize=(20,10), dpi= 80)\n",
    "plt.bar(x, y, color=c, width=.5)\n",
    "for i, val in enumerate(y):\n",
    "    plt.text(i, val, float(val), horizontalalignment='center', verticalalignment='bottom', fontdict={'fontweight':500, 'size':15})\n",
    "\n",
    "# Decoration\n",
    "plt.gca().set_xticklabels(df['name'], rotation=60, horizontalalignment= 'right')\n",
    "plt.title(\"Hospitalizations in AUSTRIA by state\", fontsize=22)\n",
    "plt.ylabel('# Number of deaths')\n",
    "plt.grid(color='#95a5a6', linestyle='--', linewidth=1, axis='y', alpha=0.5)\n",
    "plt.savefig('images/hospitalized.png', dpi=300, format='png')\n",
    "plt.show()"
   ]
  },
  {
   "cell_type": "markdown",
   "metadata": {},
   "source": [
    "## Intesive Care in AUSTRIA by state"
   ]
  },
  {
   "cell_type": "code",
   "execution_count": 25,
   "metadata": {},
   "outputs": [
    {
     "data": {
      "image/png": "[encoded data removed]",
      "text/plain": [
       "<Figure size 1600x800 with 1 Axes>"
      ]
     },
     "metadata": {
      "needs_background": "light"
     },
     "output_type": "display_data"
    }
   ],
   "source": [
    "import random\n",
    "\n",
    "# Import Data\n",
    "df_raw = pd.read_csv(\"covid_data/covid-19-austria.csv\")\n",
    "\n",
    "#print(df_raw)\n",
    "\n",
    "# Prepare Data\n",
    "df = df_raw[['name','intensive_care']]\n",
    "n = df['intensive_care'].unique().__len__()-1\n",
    "all_colors = list(plt.cm.colors.cnames.keys())\n",
    "random.seed(100)\n",
    "c = random.choices(all_colors, k=n)\n",
    "\n",
    "#print(df['name'].tolist(), df['deaths'])\n",
    "\n",
    "x = df['name'].tolist()[0:7]\n",
    "y = df['intensive_care'].tolist()[0:7]\n",
    "\n",
    "# Plot Bars\n",
    "plt.figure(figsize=(20,10), dpi= 80)\n",
    "plt.bar(x, y, color=c, width=.5)\n",
    "for i, val in enumerate(y):\n",
    "    plt.text(i, val, float(val), horizontalalignment='center', verticalalignment='bottom', fontdict={'fontweight':500, 'size':15})\n",
    "\n",
    "# Decoration\n",
    "plt.gca().set_xticklabels(df['name'], rotation=60, horizontalalignment= 'right')\n",
    "plt.title(\"Intensive care in AUSTRIA by state\", fontsize=22)\n",
    "plt.ylabel('# Number of deaths')\n",
    "plt.grid(color='#95a5a6', linestyle='--', linewidth=1, axis='y', alpha=0.5)\n",
    "plt.savefig('images/hospitalized.png', dpi=300, format='png')\n",
    "plt.show()"
   ]
  },
  {
   "cell_type": "markdown",
   "metadata": {},
   "source": [
    "# MAPS"
   ]
  },
  {
   "cell_type": "markdown",
   "metadata": {},
   "source": [
    "## COVID-19 DEATHS in AUSTRIA"
   ]
  },
  {
   "cell_type": "code",
   "execution_count": 26,
   "metadata": {},
   "outputs": [
    {
     "name": "stdout",
     "output_type": "stream",
     "text": [
      "Deaths by state at: 2020-05-27\n"
     ]
    }
   ],
   "source": [
    "import datetime\n",
    "from datetime import date\n",
    "\n",
    "today = date.today()\n",
    "today = today.strftime(\"%m/%d/%Y\")\n",
    "\n",
    "safe_date = date.today()-datetime.timedelta(2)\n",
    "safe = safe_date.strftime(\"%Y-%m-%d\")\n",
    "print(\"Deaths by state at:\", safe)"
   ]
  },
  {
   "cell_type": "code",
   "execution_count": 27,
   "metadata": {},
   "outputs": [
    {
     "name": "stdout",
     "output_type": "stream",
     "text": [
      "Column ID_0 Load\n",
      "Column ISO Load\n",
      "Column NAME_0 Load\n",
      "Column ID_1 Load\n",
      "Column NAME_1 Load\n",
      "Column TYPE_1 Load\n",
      "Column ENGTYPE_1 Load\n",
      "Column NL_NAME_1 Load\n",
      "Column VARNAME_1 Load\n",
      "Column  Load\n",
      "Column Data_country Load\n",
      "Column Data_cases Load\n",
      "Column Data_recovered Load\n",
      "Column Data_deaths Load\n",
      "Column Data_tests Load\n",
      "Column Data_hospitalized Load\n",
      "Column Data_intensive_care Load\n",
      "Column Data_datetime Load\n"
     ]
    }
   ],
   "source": [
    "death_layer = map_layer.clone()\n",
    "death_layer.setName(\"Deaths\")\n",
    "\n",
    "for field in death_layer.fields():\n",
    "    print(\"Column \"+field.name()+\" Load\")"
   ]
  },
  {
   "cell_type": "code",
   "execution_count": 28,
   "metadata": {},
   "outputs": [],
   "source": [
    "from qgis.utils import iface\n",
    "\n",
    "\n",
    "label_settings = QgsPalLayerSettings()\n",
    "label_settings.drawBackground = True\n",
    "label_settings.fieldName = \"Data_deaths\"\n",
    "\n",
    "text_format = QgsTextFormat()\n",
    "\n",
    "text_format.setFont(QFont(\"Arial\", 30))\n",
    "text_format.setSize(55) \n",
    "                     \n",
    "background_color = QgsTextBackgroundSettings()\n",
    "text_format.setColor(QColor(\"white\"))\n",
    "\n",
    "background_color.setEnabled(False)\n",
    "text_format.setBackground(background_color )\n",
    "label_settings.setFormat(text_format)\n",
    "\n",
    "death_layer.setLabeling(QgsVectorLayerSimpleLabeling(label_settings))\n",
    "death_layer.setLabelsEnabled(True)\n",
    "death_layer.triggerRepaint()"
   ]
  },
  {
   "cell_type": "markdown",
   "metadata": {},
   "source": [
    "Criar os limites e a graduação das cores"
   ]
  },
  {
   "cell_type": "code",
   "execution_count": 29,
   "metadata": {},
   "outputs": [],
   "source": [
    "from qgis.PyQt import QtGui\n",
    "\n",
    "myOpacity = 1\n",
    "\n",
    "myTargetField = 'Data_deaths'\n",
    "myRangeList = []\n",
    "\n",
    "myMin = 0\n",
    "myMax = 10\n",
    "myLabel = '0-10'\n",
    "myColour = QtGui.QColor('#ffcccc')\n",
    "mySymbol = QgsSymbol.defaultSymbol(death_layer.geometryType())\n",
    "mySymbol.setColor(myColour)\n",
    "myRange = QgsRendererRange(myMin, myMax, mySymbol, myLabel)\n",
    "myRangeList.append(myRange)\n",
    "\n",
    "myMin = 10\n",
    "myMax = 20\n",
    "myLabel = '10-20'\n",
    "myColour = QtGui.QColor('#ff6666')\n",
    "mySymbol = QgsSymbol.defaultSymbol(death_layer.geometryType())\n",
    "mySymbol.setColor(myColour)\n",
    "myRange = QgsRendererRange(myMin, myMax, mySymbol, myLabel)\n",
    "myRangeList.append(myRange)\n",
    "\n",
    "myMin = 300\n",
    "myMax = 450\n",
    "myLabel = '300 - 450'\n",
    "myColour = QtGui.QColor('#ff3333')\n",
    "mySymbol = QgsSymbol.defaultSymbol(death_layer.geometryType())\n",
    "mySymbol.setColor(myColour)\n",
    "myRange = QgsRendererRange(myMin, myMax, mySymbol, myLabel)\n",
    "myRangeList.append(myRange)\n",
    "\n",
    "\n",
    "myMin = 20\n",
    "myMax = 40\n",
    "myLabel = '20 - 40'\n",
    "myColour = QtGui.QColor('#ff0000')\n",
    "mySymbol = QgsSymbol.defaultSymbol(death_layer.geometryType())\n",
    "mySymbol.setColor(myColour)\n",
    "myRange = QgsRendererRange(myMin, myMax, mySymbol, myLabel)\n",
    "myRangeList.append(myRange)\n",
    "\n",
    "myMin = 40\n",
    "myMax = 60\n",
    "myLabel = '40 - 60'\n",
    "myColour = QtGui.QColor('#cc0000')\n",
    "mySymbol = QgsSymbol.defaultSymbol(death_layer.geometryType())\n",
    "mySymbol.setColor(myColour)\n",
    "myRange = QgsRendererRange(myMin, myMax, mySymbol, myLabel)\n",
    "myRangeList.append(myRange)\n",
    "\n",
    "myMin = 60\n",
    "myMax = 80\n",
    "myLabel = '60 - 80'\n",
    "myColour = QtGui.QColor('#990000')\n",
    "mySymbol = QgsSymbol.defaultSymbol(death_layer.geometryType())\n",
    "mySymbol.setColor(myColour)\n",
    "myRange = QgsRendererRange(myMin, myMax, mySymbol, myLabel)\n",
    "myRangeList.append(myRange)\n",
    "\n",
    "myMin = 80\n",
    "myMax = 100\n",
    "myLabel = '80 - 100'\n",
    "myColour = QtGui.QColor('#a51d00')\n",
    "mySymbol = QgsSymbol.defaultSymbol(death_layer.geometryType())\n",
    "mySymbol.setColor(myColour)\n",
    "myRange = QgsRendererRange(myMin, myMax, mySymbol, myLabel)\n",
    "myRangeList.append(myRange)\n",
    "\n",
    "myMin = 100\n",
    "myMax = 120\n",
    "myLabel = '100-120'\n",
    "myColour = QtGui.QColor('#660000')\n",
    "mySymbol = QgsSymbol.defaultSymbol(death_layer.geometryType())\n",
    "mySymbol.setColor(myColour)\n",
    "myRange = QgsRendererRange(myMin, myMax, mySymbol, myLabel)\n",
    "myRangeList.append(myRange)\n",
    "\n",
    "myMin = 120\n",
    "myMax = 150\n",
    "myLabel = '120-150'\n",
    "myColour = QtGui.QColor('5d0000')\n",
    "mySymbol = QgsSymbol.defaultSymbol(death_layer.geometryType())\n",
    "mySymbol.setColor(myColour)\n",
    "myRange = QgsRendererRange(myMin, myMax, mySymbol, myLabel)\n",
    "myRangeList.append(myRange)\n",
    "\n",
    "myMin = -1\n",
    "myMax = -1\n",
    "myLabel = 'Sem Dados'\n",
    "myColour = QtGui.QColor('#333333')\n",
    "mySymbol = QgsSymbol.defaultSymbol(death_layer.geometryType())\n",
    "mySymbol.setColor(myColour)\n",
    "myRange = QgsRendererRange(myMin, myMax, mySymbol, myLabel)\n",
    "myRangeList.append(myRange)\n",
    "myRenderer = QgsGraduatedSymbolRenderer('', myRangeList)\n",
    "myClassificationMethod = QgsApplication.classificationMethodRegistry().method(\"EqualInterval\")\n",
    "myRenderer.setClassificationMethod(myClassificationMethod)\n",
    "myRenderer.setClassAttribute(myTargetField)\n",
    "\n",
    "death_layer.setRenderer(myRenderer)"
   ]
  },
  {
   "cell_type": "code",
   "execution_count": null,
   "metadata": {},
   "outputs": [],
   "source": [
    "xt = death_layer.extent()\n",
    "width  = 1500\n",
    "height = int(width*xt.height()/xt.width())\n",
    "\n",
    "project = QgsProject().instance()\n",
    "project.addMapLayers([death_layer])\n",
    "manager = project.layoutManager()\n",
    "layoutName = 'deaths'\n",
    "layouts_list = manager.printLayouts()\n",
    "for layout in layouts_list:\n",
    "    if layout.name() == layoutName:\n",
    "        manager.removeLayout(layout)\n",
    "        \n",
    "layout = QgsPrintLayout(project)\n",
    "layout.initializeDefaults()\n",
    "layout.setName(layoutName)\n",
    "manager.addLayout(layout)\n",
    "\n",
    "\n",
    "\n",
    "\n",
    "pc = layout.pageCollection()\n",
    "pc.page(0).attemptResize(QgsLayoutSize(width,height,QgsUnitTypes.LayoutMillimeters))\n",
    "\n",
    "\n",
    "map = QgsLayoutItemMap(layout)\n",
    "map.setRect(20,20,20,20)\n",
    "map.setLayers([death_layer])\n",
    "\n",
    "\n",
    "\n",
    "ms = QgsMapSettings()\n",
    "ms.setLayers([death_layer])\n",
    "ms.setExtent(xt)\n",
    "map.setExtent(xt)\n",
    "\n",
    "\n",
    "layout.addLayoutItem(map)\n",
    "\n",
    "\n",
    "\n",
    "map.attemptMove(QgsLayoutPoint(0,0,QgsUnitTypes.LayoutMillimeters))\n",
    "map.attemptResize(QgsLayoutSize(width,height,QgsUnitTypes.LayoutMillimeters))\n",
    "\n",
    "\n",
    "map.setBackgroundColor(QColor(250,250,250))\n",
    "\n",
    "\n",
    "\n",
    "\n",
    "legend = QgsLayoutItemLegend(layout)\n",
    "\n",
    "legend.setReferencePoint(6)\n",
    "legend.setScale(3)\n",
    "legend.attemptMove(QgsLayoutPoint(0,height,QgsUnitTypes.LayoutMillimeters))\n",
    "\n",
    "layout.addLayoutItem(legend)\n",
    "legend.setLegendFilterByMapEnabled(True)\n",
    "\n",
    "legend.setLinkedMap(map)\n",
    "\n",
    "exporter = QgsLayoutExporter(manager.layoutByName(\"deaths\"))\n",
    "\n",
    "\n",
    "image = exporter.renderPageToImage(0)\n",
    "image = exporter.renderPageToImage(0)\n",
    "\n",
    "from IPython.display import Image\n",
    "imgbuf= QBuffer()\n",
    "imgbuf.open( QIODevice.ReadWrite )\n",
    "image.save( imgbuf,\"PNG\" )\n",
    "image.save('images/map_deaths.png',\"PNG\")\n",
    "Image( imgbuf.data() )"
   ]
  },
  {
   "cell_type": "code",
   "execution_count": null,
   "metadata": {},
   "outputs": [],
   "source": []
  },
  {
   "cell_type": "code",
   "execution_count": null,
   "metadata": {},
   "outputs": [],
   "source": []
  }
 ],
 "metadata": {
  "kernelspec": {
   "display_name": "Python 3",
   "language": "python",
   "name": "python3"
  },
  "language_info": {
   "codemirror_mode": {
    "name": "ipython",
    "version": 3
   },
   "file_extension": ".py",
   "mimetype": "text/x-python",
   "name": "python",
   "nbconvert_exporter": "python",
   "pygments_lexer": "ipython3",
   "version": "3.7.0"
  }
 },
 "nbformat": 4,
 "nbformat_minor": 2
}
