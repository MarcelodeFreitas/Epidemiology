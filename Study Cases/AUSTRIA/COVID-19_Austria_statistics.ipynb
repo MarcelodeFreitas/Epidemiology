{
 "cells": [
  {
   "cell_type": "markdown",
   "metadata": {},
   "source": [
    "# COVID-19 AUSTRIA STATISTICS"
   ]
  },
  {
   "cell_type": "code",
   "execution_count": 1,
   "metadata": {},
   "outputs": [
    {
     "data": {
      "text/plain": [
       "('covid_data/covid-19-at.csv', <http.client.HTTPMessage at 0x28fb3f7c390>)"
      ]
     },
     "execution_count": 1,
     "metadata": {},
     "output_type": "execute_result"
    }
   ],
   "source": [
    "import urllib.request\n",
    "url = 'https://raw.githubusercontent.com/covid19-eu-zh/covid19-eu-data/master/dataset/covid-19-at.csv'\n",
    "filename = 'covid_data/covid-19-at.csv'\n",
    "urllib.request.urlretrieve(url, filename)"
   ]
  },
  {
   "cell_type": "code",
   "execution_count": 2,
   "metadata": {},
   "outputs": [
    {
     "name": "stdout",
     "output_type": "stream",
     "text": [
      "Today's date: 20-05-31\n",
      "Safe date: 20-05-29\n",
      "Most recent date:  2020-05-31 15:30:00\n",
      "['AT', 'Burgenland', '342', '325', '11', '12953', '2', '0', '2020-05-31T15:30:00']\n",
      "['AT', 'KÃ¤rnten', '414', '398', '13', '17104', '0', '0', '2020-05-31T15:30:00']\n",
      "['AT', 'Vorarlberg', '898', '866', '19', '21763', '0', '0', '2020-05-31T15:30:00']\n",
      "['AT', 'Salzburg', '1220', '1196', '38', '33275', '0', '0', '2020-05-31T15:30:00']\n",
      "['AT', 'Steiermark', '1836', '1645', '147', '50817', '6', '0', '2020-05-31T15:30:00']\n",
      "['AT', 'OberÃ¶sterreich', '2296', '2215', '60', '62819', '7', '0', '2020-05-31T15:30:00']\n",
      "['AT', 'NiederÃ¶sterreich', '2866', '2673', '100', '69621', '22', '10', '2020-05-31T15:30:00']\n",
      "['AT', 'Wien', '3229', '2855', '172', '106863', '53', '14', '2020-05-31T15:30:00']\n",
      "['AT', 'Tirol', '3537', '3420', '108', '73319', '7', '3', '2020-05-31T15:30:00']\n",
      "['AT', '', '16638', '15593', '668', '448534', '97', '27', '2020-05-31T15:30:00']\n"
     ]
    }
   ],
   "source": [
    "import csv\n",
    "import datetime\n",
    "from datetime import date\n",
    "\n",
    "today = date.today()\n",
    "today = today.strftime(\"%y-%m-%d\")\n",
    "print(\"Today's date:\", today)\n",
    "\n",
    "safe_date = date.today()-datetime.timedelta(2)\n",
    "safe = safe_date.strftime(\"%y-%m-%d\")\n",
    "print(\"Safe date:\", safe)\n",
    "\n",
    "date_time_str = '2018-06-29T08:15:27'\n",
    "date_time_obj = datetime.datetime.strptime(date_time_str, '%Y-%m-%dT%H:%M:%S')\n",
    "\n",
    "with open('covid_data/covid-19-at.csv', 'r') as i, open('covid_data/covid-19-austria.csv', 'w', newline='') as o:\n",
    "    r = csv.reader(i, delimiter=',')\n",
    "    writer = csv.writer(o)\n",
    "    writer.writerow([\"country\", \"name\", \"cases\", \"recovered\", \"deaths\", \"tests\", \"hospitalized\", \"intensive_care\", \"datetime\"])\n",
    "    #for row in r:\n",
    "    #    if row[8] == \"2020-05-09T15:00:00\": \n",
    "    #        writer.writerow(row)\n",
    "    #        print(row)\n",
    "    max_value = date_time_obj\n",
    "    #most recent date\n",
    "    for row in r:\n",
    "        if today in row[8]:\n",
    "            date_time = row[8]\n",
    "            date_time_object = datetime.datetime.strptime(date_time, '%Y-%m-%dT%H:%M:%S')\n",
    "            if date_time_object > max_value: \n",
    "                max_value = date_time_object\n",
    "    print(\"Most recent date: \", max_value)\n",
    "    \n",
    "                \n",
    "                \n",
    "                \n",
    "with open('covid_data/covid-19-at.csv', 'r') as i, open('covid_data/covid-19-austria.csv', 'w', newline='') as o:\n",
    "    r = csv.reader(i, delimiter=',')\n",
    "    writer = csv.writer(o)\n",
    "    writer.writerow([\"country\", \"name\", \"cases\", \"recovered\", \"deaths\", \"tests\", \"hospitalized\", \"intensive_care\", \"datetime\"])\n",
    "                \n",
    "    #create csv with most recent data           \n",
    "    for row in r:\n",
    "        if today in row[8]:\n",
    "            date_time = row[8]\n",
    "            date_time_object = datetime.datetime.strptime(date_time, '%Y-%m-%dT%H:%M:%S')\n",
    "            if date_time_object == max_value: \n",
    "                writer.writerow(row)\n",
    "                print(row)    \n",
    "        \n",
    "\n",
    "    "
   ]
  },
  {
   "cell_type": "code",
   "execution_count": 4,
   "metadata": {},
   "outputs": [],
   "source": [
    "import matplotlib.pyplot as plt\n",
    "import pandas as pd\n",
    "\n",
    "# Import Data\n",
    "df_raw = pd.read_csv(\"covid_data/covid-19-austria.csv\")\n",
    "\n",
    "# Prepare Data\n",
    "\n",
    "name = df_raw['name'].tolist()[0:9]\n",
    "intensive_care = df_raw['intensive_care'].tolist()[0:9]\n",
    "cases = df_raw['cases'].tolist()[0:9]\n",
    "deaths = df_raw['deaths'].tolist()[0:9]\n",
    "recovered = df_raw['recovered'].tolist()[0:9]\n",
    "hospitalized = df_raw['hospitalized'].tolist()[0:9]\n",
    "tests = df_raw['tests'].tolist()[0:9]"
   ]
  },
  {
   "cell_type": "code",
   "execution_count": null,
   "metadata": {},
   "outputs": [],
   "source": []
  }
 ],
 "metadata": {
  "kernelspec": {
   "display_name": "Python 3",
   "language": "python",
   "name": "python3"
  },
  "language_info": {
   "codemirror_mode": {
    "name": "ipython",
    "version": 3
   },
   "file_extension": ".py",
   "mimetype": "text/x-python",
   "name": "python",
   "nbconvert_exporter": "python",
   "pygments_lexer": "ipython3",
   "version": "3.7.0"
  }
 },
 "nbformat": 4,
 "nbformat_minor": 2
}
