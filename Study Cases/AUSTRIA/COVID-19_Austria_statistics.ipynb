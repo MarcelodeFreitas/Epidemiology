{
 "cells": [
  {
   "cell_type": "markdown",
   "metadata": {},
   "source": [
    "# COVID-19 USA"
   ]
  },
  {
   "cell_type": "markdown",
   "metadata": {},
   "source": [
    "## Objetivos deste notebook\n",
    "\n",
    "Adaptar o [notebook](https://raw.githubusercontent.com/jgrocha/covid-pt/master/Casos%20de%20estudo/COVID-19_USA_statistics/COVID-19_USA_statistics.ipynb) criado por Tiago Pinheiro - A82491 de forma a utilizar dados mais atualizados."
   ]
  },
  {
   "cell_type": "code",
   "execution_count": 1,
   "metadata": {},
   "outputs": [],
   "source": [
    "import sys\n",
    "import os\n",
    "from osgeo import ogr\n",
    "import numpy as np\n",
    "import matplotlib.pyplot as plt\n",
    "import pandas as pd\n",
    "from qgis.core import *\n",
    "from qgis.PyQt.QtGui import *\n",
    "from qgis.PyQt.QtCore import *\n",
    "from IPython.display import Image"
   ]
  },
  {
   "cell_type": "markdown",
   "metadata": {},
   "source": [
    "Start Qgis with GUI and start a project"
   ]
  },
  {
   "cell_type": "code",
   "execution_count": 2,
   "metadata": {},
   "outputs": [
    {
     "name": "stdout",
     "output_type": "stream",
     "text": [
      "Application state:\n",
      "QGIS_PREFIX_PATH env var:\t\tC:/OSGEO4~1/apps/qgis\n",
      "Prefix:\t\tC:/OSGEO4~1/apps/qgis\n",
      "Plugin Path:\t\tC:/OSGEO4~1/apps/qgis/plugins\n",
      "Package Data Path:\tC:/OSGEO4~1/apps/qgis/.\n",
      "Active Theme Name:\t\n",
      "Active Theme Path:\tC:/OSGEO4~1/apps/qgis/./resources/themes\\\\icons/\n",
      "Default Theme Path:\t:/images/themes/default/\n",
      "SVG Search Paths:\tC:\\OSGeo4W64\\apps\\qgis/./svg/\n",
      "\t\tC:/OSGEO4~1/apps/qgis/./svg/\n",
      "\t\tC:/Users/Marcelo/AppData/Roaming/python3\\profiles\\default/svg/\n",
      "User DB Path:\tC:/OSGEO4~1/apps/qgis/./resources/qgis.db\n",
      "Auth DB Path:\tC:/Users/Marcelo/AppData/Roaming/python3\\profiles\\default/qgis-auth.db\n",
      "\n"
     ]
    }
   ],
   "source": [
    "qgis_path = r\"C:\\OSGeo4W64\\apps\\qgis\"\n",
    "QgsApplication.setPrefixPath(qgis_path, True)\n",
    "qgs = QgsApplication([], True)\n",
    "qgs.initQgis()\n",
    "sys.path.append(r\"C:\\OSGeo4W64\\apps\\qgis\\python\\plugins\")\n",
    "project = QgsProject.instance()\n",
    "print(QgsApplication.showSettings())"
   ]
  },
  {
   "cell_type": "markdown",
   "metadata": {},
   "source": [
    "Download Map"
   ]
  },
  {
   "cell_type": "code",
   "execution_count": 3,
   "metadata": {},
   "outputs": [
    {
     "data": {
      "text/plain": [
       "('AUT_adm.zip', <http.client.HTTPMessage at 0x1814e47a160>)"
      ]
     },
     "execution_count": 3,
     "metadata": {},
     "output_type": "execute_result"
    }
   ],
   "source": [
    "import urllib.request\n",
    "url = 'https://data.biogeo.ucdavis.edu/data/diva/adm/AUT_adm.zip'\n",
    "filename = 'AUT_adm.zip'\n",
    "urllib.request.urlretrieve(url, filename)"
   ]
  },
  {
   "cell_type": "markdown",
   "metadata": {},
   "source": [
    "Unzip Map"
   ]
  },
  {
   "cell_type": "code",
   "execution_count": 4,
   "metadata": {},
   "outputs": [],
   "source": [
    "import zipfile\n",
    "with zipfile.ZipFile(filename, 'r') as zip_ref:\n",
    "    zip_ref.extractall()"
   ]
  },
  {
   "cell_type": "markdown",
   "metadata": {},
   "source": [
    "Load map layer"
   ]
  },
  {
   "cell_type": "code",
   "execution_count": 5,
   "metadata": {},
   "outputs": [
    {
     "name": "stdout",
     "output_type": "stream",
     "text": [
      "Sucess\n"
     ]
    }
   ],
   "source": [
    "path = \"AUT_adm1.shp\"\n",
    "map_layer = QgsVectorLayer(path, 'PORTUGAL map', 'ogr')\n",
    "\n",
    "if not map_layer.isValid():\n",
    "    print(\"Failed to load the layer!\")\n",
    "else:\n",
    "    project.addMapLayer(map_layer)\n",
    "    print(\"Sucess\")"
   ]
  },
  {
   "cell_type": "markdown",
   "metadata": {},
   "source": [
    "Download csv file"
   ]
  },
  {
   "cell_type": "code",
   "execution_count": 6,
   "metadata": {},
   "outputs": [
    {
     "data": {
      "text/plain": [
       "('covid-19-at.csv', <http.client.HTTPMessage at 0x1814e494278>)"
      ]
     },
     "execution_count": 6,
     "metadata": {},
     "output_type": "execute_result"
    }
   ],
   "source": [
    "import urllib.request\n",
    "url = 'https://raw.githubusercontent.com/covid19-eu-zh/covid19-eu-data/master/dataset/covid-19-at.csv'\n",
    "filename = 'covid-19-at.csv'\n",
    "urllib.request.urlretrieve(url, filename)"
   ]
  },
  {
   "cell_type": "code",
   "execution_count": 7,
   "metadata": {},
   "outputs": [
    {
     "name": "stdout",
     "output_type": "stream",
     "text": [
      "['AT', 'Burgenland', '331', '279', '11', '8255', '6', '0', '2020-05-09T15:00:00']\n",
      "['AT', 'KÃ¤rnten', '411', '387', '13', '12208', '3', '2', '2020-05-09T15:00:00']\n",
      "['AT', 'Vorarlberg', '876', '838', '19', '15160', '2', '1', '2020-05-09T15:00:00']\n",
      "['AT', 'Salzburg', '1212', '1155', '36', '26560', '25', '3', '2020-05-09T15:00:00']\n",
      "['AT', 'Steiermark', '1796', '1395', '135', '35200', '32', '6', '2020-05-09T15:00:00']\n",
      "['AT', 'OberÃ¶sterreich', '2267', '2160', '58', '46097', '20', '5', '2020-05-09T15:00:00']\n",
      "['AT', 'Wien', '2661', '1999', '141', '70226', '110', '19', '2020-05-09T15:00:00']\n",
      "['AT', 'NiederÃ¶sterreich', '2684', '2405', '95', '39532', '72', '25', '2020-05-09T15:00:00']\n",
      "['AT', 'Tirol', '3518', '3310', '107', '58452', '39', '18', '2020-05-09T15:00:00']\n",
      "['AT', '', '15756', '13928', '615', '311690', '309', '79', '2020-05-09T15:00:00']\n"
     ]
    }
   ],
   "source": [
    "import csv\n",
    "\n",
    "with open('covid-19-at.csv', 'r') as i, open('covid-19-austria.csv', 'w', newline='') as o:\n",
    "    r = csv.reader(i, delimiter=',')\n",
    "    writer = csv.writer(o)\n",
    "    writer.writerow([\"country\", \"name\", \"cases\", \"recovered\", \"deaths\", \"tests\", \"hospitalized\", \"intensive_care\", \"datetime\"])\n",
    "    for row in r:\n",
    "        if row[8] == \"2020-05-09T15:00:00\": \n",
    "            writer.writerow(row)\n",
    "            print(row)"
   ]
  },
  {
   "cell_type": "markdown",
   "metadata": {},
   "source": [
    "Load csv file"
   ]
  },
  {
   "cell_type": "code",
   "execution_count": 8,
   "metadata": {},
   "outputs": [
    {
     "name": "stdout",
     "output_type": "stream",
     "text": [
      "Sucess\n"
     ]
    }
   ],
   "source": [
    "csv_path = \"file:covid-19-austria.csv?delimiter=(',')\"\n",
    "csv_layer = QgsVectorLayer(csv_path, 'Data', 'delimitedtext')\n",
    "\n",
    "if not csv_layer.isValid():\n",
    "    print('Layer failed to load!')\n",
    "else:\n",
    "    project.addMapLayer(csv_layer)\n",
    "    print(\"Sucess\")"
   ]
  },
  {
   "cell_type": "markdown",
   "metadata": {},
   "source": [
    "Join layer"
   ]
  },
  {
   "cell_type": "code",
   "execution_count": 9,
   "metadata": {},
   "outputs": [],
   "source": [
    "joinName = 'name'\n",
    "targetName = 'NAME_1'\n",
    "\n",
    "joinObject = QgsVectorLayerJoinInfo()\n",
    "joinObject.setJoinFieldName(joinName)\n",
    "joinObject.setTargetFieldName(targetName)\n",
    "joinObject.setJoinLayerId(csv_layer.id())\n",
    "joinObject.setUsingMemoryCache(True)\n",
    "joinObject.setJoinLayer(csv_layer)\n",
    "flag = map_layer.addJoin(joinObject)"
   ]
  },
  {
   "cell_type": "markdown",
   "metadata": {},
   "source": [
    "## Gráfico do número de mortes, casos confirmados e casos recuperados"
   ]
  },
  {
   "cell_type": "code",
   "execution_count": 10,
   "metadata": {
    "scrolled": false
   },
   "outputs": [],
   "source": [
    "dict = []\n",
    "\n",
    "for feature in map_layer.getFeatures():\n",
    "    if feature['NAME_1']:\n",
    "        state = feature['NAME_1']\n",
    "        if feature['Data_deaths']:\n",
    "            death = feature['Data_deaths']\n",
    "        else:\n",
    "            death = 0\n",
    "        if feature['Data_cases']:\n",
    "            confirmed = feature['Data_cases']\n",
    "        else:\n",
    "            confirmed = 0\n",
    "        if feature['Data_recovered']:\n",
    "            recovered = feature['Data_recovered']\n",
    "        else:\n",
    "            recovered = 0\n",
    "        if feature['Data_tests']:\n",
    "            tests = feature['Data_tests']\n",
    "        else:\n",
    "            tests = 0\n",
    "        if feature['Data_hospitalized']:\n",
    "            hospitalized = feature['Data_hospitalized']\n",
    "        else:\n",
    "            hospitalized = 0\n",
    "        if feature['Data_intensive_care']:\n",
    "            intensive_care = feature['Data_intensive_care']\n",
    "        else:\n",
    "            intensive_care = 0\n",
    "        \n",
    "    e = {'Name': state, 'Confirmed': confirmed, 'Death': death, 'Recovered': recovered, 'Tests': tests, 'Hospitalized': hospitalized, 'Intensive Care': intensive_care }\n",
    "    dict.append(e)"
   ]
  },
  {
   "cell_type": "code",
   "execution_count": 11,
   "metadata": {},
   "outputs": [],
   "source": [
    "size = len(dict)-5\n",
    "\n",
    "c = sorted(dict, key = lambda i: i['Confirmed'],reverse=True)\n",
    "d = sorted(dict, key = lambda i: i['Death'],reverse=True)\n",
    "r = sorted(dict, key = lambda i: i['Recovered'],reverse=True)\n",
    "t = sorted(dict, key = lambda i: i['Tests'],reverse=True)\n",
    "h = sorted(dict, key = lambda i: i['Hospitalized'],reverse=True)\n",
    "i = sorted(dict, key = lambda i: i['Intensive Care'],reverse=True)\n",
    "\n",
    "top5confirmed = c[0:5]\n",
    "top5death = d[0:5]\n",
    "top5recovered = r[0:5]\n",
    "top5tests = t[0:5]\n",
    "top5hospitalized = h[0:5]\n",
    "top5intensive_care = i[0:5]\n",
    "\n",
    "bottom5confirmed = c[size:]\n",
    "bottom5death = d[size:]\n",
    "bottom5recovered = r[size:]\n",
    "bottom5tests = r[size:]\n",
    "bottom5hospitalized = h[size:]\n",
    "bottom5intensive_care = i[size:]"
   ]
  },
  {
   "cell_type": "markdown",
   "metadata": {},
   "source": [
    "### Top 5 Casos Confirmados"
   ]
  },
  {
   "cell_type": "code",
   "execution_count": 12,
   "metadata": {},
   "outputs": [
    {
     "data": {
      "image/png": "[encoded data removed]",
      "text/plain": [
       "<Figure size 432x288 with 1 Axes>"
      ]
     },
     "metadata": {
      "needs_background": "light"
     },
     "output_type": "display_data"
    }
   ],
   "source": [
    "delta1 = [top5confirmed[0]['Confirmed'],top5confirmed[1]['Confirmed'],top5confirmed[2]['Confirmed'],top5confirmed[3]['Confirmed'],top5confirmed[4]['Confirmed']]\n",
    "states = [top5confirmed[0]['Name'],top5confirmed[1]['Name'],top5confirmed[2]['Name'],top5confirmed[3]['Name'],top5confirmed[4]['Name']]\n",
    "\n",
    "fig, ax = plt.subplots()\n",
    "index = np.arange(5)\n",
    "bar_width = 0.35\n",
    "\n",
    "rects1 = plt.bar(index, delta1, bar_width, label='Casos Confirmados')\n",
    "\n",
    "plt.ylabel('Casos Confirmados')\n",
    "plt.title('Top 5 estados com mais casos confirmados')\n",
    "plt.xticks(index + bar_width,states,)\n",
    "plt.legend()\n",
    "\n",
    "plt.tight_layout()\n",
    "plt.show()"
   ]
  },
  {
   "cell_type": "markdown",
   "metadata": {},
   "source": [
    "### Bottom 5 Casos Confirmados"
   ]
  },
  {
   "cell_type": "code",
   "execution_count": 13,
   "metadata": {},
   "outputs": [
    {
     "data": {
      "image/png": "[encoded data removed]",
      "text/plain": [
       "<Figure size 432x288 with 1 Axes>"
      ]
     },
     "metadata": {
      "needs_background": "light"
     },
     "output_type": "display_data"
    }
   ],
   "source": [
    "delta1 = [bottom5confirmed[0]['Confirmed'],bottom5confirmed[1]['Confirmed'],bottom5confirmed[2]['Confirmed'],bottom5confirmed[3]['Confirmed'],bottom5confirmed[4]['Confirmed']]\n",
    "states = [bottom5confirmed[0]['Name'],bottom5confirmed[1]['Name'],bottom5confirmed[2]['Name'],bottom5confirmed[3]['Name'],bottom5confirmed[4]['Name']]\n",
    "\n",
    "fig, ax = plt.subplots()\n",
    "index = np.arange(5)\n",
    "bar_width = 0.35\n",
    "\n",
    "rects1 = plt.bar(index, delta1, bar_width, label='Casos Confirmados')\n",
    "\n",
    "plt.ylabel('Casos Confirmados')\n",
    "plt.title('Top 5 estados com menos casos confirmados')\n",
    "plt.xticks(index + bar_width,states,)\n",
    "plt.legend()\n",
    "\n",
    "plt.tight_layout()\n",
    "plt.show()"
   ]
  },
  {
   "cell_type": "markdown",
   "metadata": {},
   "source": [
    "### Top 5 Mortes"
   ]
  },
  {
   "cell_type": "code",
   "execution_count": 14,
   "metadata": {},
   "outputs": [
    {
     "data": {
      "image/png": "[encoded data removed]",
      "text/plain": [
       "<Figure size 432x288 with 1 Axes>"
      ]
     },
     "metadata": {
      "needs_background": "light"
     },
     "output_type": "display_data"
    }
   ],
   "source": [
    "delta1 = [top5death[0]['Death'],top5death[1]['Death'],top5death[2]['Death'],top5death[3]['Death'],top5death[4]['Death']]\n",
    "states = [top5death[0]['Name'],top5death[1]['Name'],top5death[2]['Name'],top5death[3]['Name'],top5death[4]['Name']]\n",
    "\n",
    "fig, ax = plt.subplots()\n",
    "index = np.arange(5)\n",
    "bar_width = 0.35\n",
    "\n",
    "rects1 = plt.bar(index, delta1, bar_width, label='Mortes')\n",
    "\n",
    "plt.ylabel('Número de mortes')\n",
    "plt.title('Top 5 estados com mais mortes')\n",
    "plt.xticks(index + bar_width,states,)\n",
    "plt.legend()\n",
    "\n",
    "plt.tight_layout()\n",
    "plt.show()"
   ]
  },
  {
   "cell_type": "markdown",
   "metadata": {},
   "source": [
    "### Bottom 5 Mortes"
   ]
  },
  {
   "cell_type": "code",
   "execution_count": 15,
   "metadata": {},
   "outputs": [
    {
     "data": {
      "image/png": "[encoded data removed]",
      "text/plain": [
       "<Figure size 432x288 with 1 Axes>"
      ]
     },
     "metadata": {
      "needs_background": "light"
     },
     "output_type": "display_data"
    }
   ],
   "source": [
    "delta1 = [bottom5death[0]['Death'],bottom5death[1]['Death'],bottom5death[2]['Death'],bottom5death[3]['Death'],bottom5death[4]['Death']]\n",
    "states = [bottom5death[0]['Name'],bottom5death[1]['Name'],bottom5death[2]['Name'],bottom5death[3]['Name'],bottom5death[4]['Name']]\n",
    "\n",
    "fig, ax = plt.subplots()\n",
    "index = np.arange(5)\n",
    "bar_width = 0.35\n",
    "\n",
    "rects1 = plt.bar(index, delta1, bar_width, label='Mortes')\n",
    "\n",
    "plt.ylabel('Número de mortes')\n",
    "plt.title('Top 5 estados com menos mortes')\n",
    "plt.xticks(index + bar_width,states,)\n",
    "plt.legend()\n",
    "\n",
    "plt.tight_layout()\n",
    "plt.show()"
   ]
  },
  {
   "cell_type": "markdown",
   "metadata": {},
   "source": [
    "### Top 5 Casos Recuperados"
   ]
  },
  {
   "cell_type": "code",
   "execution_count": 16,
   "metadata": {
    "scrolled": true
   },
   "outputs": [
    {
     "data": {
      "image/png": "[encoded data removed]",
      "text/plain": [
       "<Figure size 432x288 with 1 Axes>"
      ]
     },
     "metadata": {
      "needs_background": "light"
     },
     "output_type": "display_data"
    }
   ],
   "source": [
    "delta1 = [top5recovered[0]['Recovered'],top5recovered[1]['Recovered'],top5recovered[2]['Recovered'],top5recovered[3]['Recovered'],top5recovered[4]['Recovered']]\n",
    "states = [top5recovered[0]['Name'],top5recovered[1]['Name'],top5recovered[2]['Name'],top5recovered[3]['Name'],top5recovered[4]['Name']]\n",
    "\n",
    "fig, ax = plt.subplots()\n",
    "index = np.arange(5)\n",
    "bar_width = 0.35\n",
    "\n",
    "rects1 = plt.bar(index, delta1, bar_width, label='Casos recuperados')\n",
    "\n",
    "plt.ylabel('Número de recuperados')\n",
    "plt.title('Top 5 estados com mais recuperados')\n",
    "plt.xticks(index + bar_width,states,)\n",
    "plt.legend()\n",
    "\n",
    "plt.tight_layout()\n",
    "plt.show()"
   ]
  },
  {
   "cell_type": "markdown",
   "metadata": {},
   "source": [
    "### Bottom 5 Casos Recuperados"
   ]
  },
  {
   "cell_type": "code",
   "execution_count": 17,
   "metadata": {},
   "outputs": [
    {
     "data": {
      "image/png": "[encoded data removed]",
      "text/plain": [
       "<Figure size 432x288 with 1 Axes>"
      ]
     },
     "metadata": {
      "needs_background": "light"
     },
     "output_type": "display_data"
    }
   ],
   "source": [
    "delta1 = [bottom5recovered[0]['Recovered'],bottom5recovered[1]['Recovered'],bottom5recovered[2]['Recovered'],top5recovered[3]['Recovered'],top5recovered[4]['Recovered']]\n",
    "states = [bottom5recovered[0]['Name'],bottom5recovered[1]['Name'],bottom5recovered[2]['Name'],bottom5recovered[3]['Name'],bottom5recovered[4]['Name']]\n",
    "\n",
    "fig, ax = plt.subplots()\n",
    "index = np.arange(5)\n",
    "bar_width = 0.35\n",
    "\n",
    "rects1 = plt.bar(index, delta1, bar_width, label='Casos recuperados')\n",
    "\n",
    "plt.ylabel('Número de recuperados')\n",
    "plt.title('Top 5 estados com mais pessoas recuperadas')\n",
    "plt.xticks(index + bar_width,states,)\n",
    "plt.legend()\n",
    "\n",
    "plt.tight_layout()\n",
    "plt.show()"
   ]
  },
  {
   "cell_type": "markdown",
   "metadata": {},
   "source": [
    "### Top 5 Casos Testados"
   ]
  },
  {
   "cell_type": "code",
   "execution_count": 18,
   "metadata": {},
   "outputs": [
    {
     "data": {
      "image/png": "[encoded data removed]",
      "text/plain": [
       "<Figure size 432x288 with 1 Axes>"
      ]
     },
     "metadata": {
      "needs_background": "light"
     },
     "output_type": "display_data"
    }
   ],
   "source": [
    "delta1 = [top5tests[0]['Tests'],top5tests[1]['Tests'],top5tests[2]['Tests'],top5tests[3]['Tests'],top5tests[4]['Tests']]\n",
    "states = [top5tests[0]['Name'],top5tests[1]['Name'],top5tests[2]['Name'],top5tests[3]['Name'],top5tests[4]['Name']]\n",
    "\n",
    "fig, ax = plt.subplots()\n",
    "index = np.arange(5)\n",
    "bar_width = 0.35\n",
    "\n",
    "rects1 = plt.bar(index, delta1, bar_width, label='Casos testados')\n",
    "\n",
    "plt.ylabel('Número de testados')\n",
    "plt.title('Top 5 estados com mais testados')\n",
    "plt.xticks(index + bar_width,states,)\n",
    "plt.legend()\n",
    "\n",
    "plt.tight_layout()\n",
    "plt.show()"
   ]
  },
  {
   "cell_type": "markdown",
   "metadata": {},
   "source": [
    "### Bottom 5 Casos Testados"
   ]
  },
  {
   "cell_type": "code",
   "execution_count": 19,
   "metadata": {},
   "outputs": [
    {
     "data": {
      "image/png": "[encoded data removed]",
      "text/plain": [
       "<Figure size 432x288 with 1 Axes>"
      ]
     },
     "metadata": {
      "needs_background": "light"
     },
     "output_type": "display_data"
    }
   ],
   "source": [
    "delta1 = [bottom5tests[0]['Tests'],bottom5tests[1]['Tests'],bottom5tests[2]['Tests'],bottom5tests[3]['Tests'],bottom5tests[4]['Tests']]\n",
    "states = [bottom5tests[0]['Name'],bottom5tests[1]['Name'],bottom5tests[2]['Name'],bottom5tests[3]['Name'],bottom5tests[4]['Name']]\n",
    "\n",
    "fig, ax = plt.subplots()\n",
    "index = np.arange(5)\n",
    "bar_width = 0.35\n",
    "\n",
    "rects1 = plt.bar(index, delta1, bar_width, label='Casos testados')\n",
    "\n",
    "plt.ylabel('Número de recuperados')\n",
    "plt.title('Bottom 5 estados com menos testados')\n",
    "plt.xticks(index + bar_width,states,)\n",
    "plt.legend()\n",
    "\n",
    "plt.tight_layout()\n",
    "plt.show()"
   ]
  },
  {
   "cell_type": "markdown",
   "metadata": {},
   "source": [
    "## Taxa de Mortalidade"
   ]
  },
  {
   "cell_type": "markdown",
   "metadata": {},
   "source": [
    "Criar uma nova camada para imprimir a taxa de mortalidade"
   ]
  },
  {
   "cell_type": "code",
   "execution_count": 21,
   "metadata": {},
   "outputs": [],
   "source": [
    "death_layer = map_layer.clone()\n",
    "death_layer.setName(\"Death rate\")"
   ]
  },
  {
   "cell_type": "markdown",
   "metadata": {},
   "source": [
    "Eliminar o Alaska, o Hawaii, a Commonwealth of the Northern Mariana Islands, Guam e American Samoa."
   ]
  },
  {
   "cell_type": "code",
   "execution_count": 22,
   "metadata": {},
   "outputs": [
    {
     "ename": "KeyError",
     "evalue": "'NAME'",
     "output_type": "error",
     "traceback": [
      "\u001b[1;31m---------------------------------------------------------------------------\u001b[0m",
      "\u001b[1;31mKeyError\u001b[0m                                  Traceback (most recent call last)",
      "\u001b[1;32m<ipython-input-22-ade0d8fb83e4>\u001b[0m in \u001b[0;36m<module>\u001b[1;34m\u001b[0m\n\u001b[0;32m      2\u001b[0m \u001b[1;33m\u001b[0m\u001b[0m\n\u001b[0;32m      3\u001b[0m \u001b[1;32mfor\u001b[0m \u001b[0mfeature\u001b[0m \u001b[1;32min\u001b[0m \u001b[0mdeath_layer\u001b[0m\u001b[1;33m.\u001b[0m\u001b[0mgetFeatures\u001b[0m\u001b[1;33m(\u001b[0m\u001b[1;33m)\u001b[0m\u001b[1;33m:\u001b[0m\u001b[1;33m\u001b[0m\u001b[0m\n\u001b[1;32m----> 4\u001b[1;33m     \u001b[1;32mif\u001b[0m \u001b[0mfeature\u001b[0m\u001b[1;33m[\u001b[0m\u001b[1;34m'NAME'\u001b[0m\u001b[1;33m]\u001b[0m\u001b[1;33m==\u001b[0m\u001b[1;34m\"Alaska\"\u001b[0m \u001b[1;32mor\u001b[0m \u001b[0mfeature\u001b[0m\u001b[1;33m[\u001b[0m\u001b[1;34m'NAME'\u001b[0m\u001b[1;33m]\u001b[0m\u001b[1;33m==\u001b[0m\u001b[1;34m\"Hawaii\"\u001b[0m \u001b[1;32mor\u001b[0m \u001b[0mfeature\u001b[0m\u001b[1;33m[\u001b[0m\u001b[1;34m'NAME'\u001b[0m\u001b[1;33m]\u001b[0m\u001b[1;33m==\u001b[0m\u001b[1;34m\"Commonwealth of the Northern Mariana Islands\"\u001b[0m \u001b[1;32mor\u001b[0m \u001b[0mfeature\u001b[0m\u001b[1;33m[\u001b[0m\u001b[1;34m'NAME'\u001b[0m\u001b[1;33m]\u001b[0m\u001b[1;33m==\u001b[0m\u001b[1;34m\"Guam\"\u001b[0m \u001b[1;32mor\u001b[0m \u001b[0mfeature\u001b[0m\u001b[1;33m[\u001b[0m\u001b[1;34m'NAME'\u001b[0m\u001b[1;33m]\u001b[0m\u001b[1;33m==\u001b[0m\u001b[1;34m\"American Samoa\"\u001b[0m\u001b[1;33m:\u001b[0m\u001b[1;33m\u001b[0m\u001b[0m\n\u001b[0m\u001b[0;32m      5\u001b[0m         \u001b[0mdelete\u001b[0m\u001b[1;33m.\u001b[0m\u001b[0mappend\u001b[0m\u001b[1;33m(\u001b[0m\u001b[0mfeature\u001b[0m\u001b[1;33m.\u001b[0m\u001b[0mid\u001b[0m\u001b[1;33m(\u001b[0m\u001b[1;33m)\u001b[0m\u001b[1;33m)\u001b[0m\u001b[1;33m\u001b[0m\u001b[0m\n\u001b[0;32m      6\u001b[0m \u001b[1;33m\u001b[0m\u001b[0m\n",
      "\u001b[1;31mKeyError\u001b[0m: 'NAME'"
     ]
    }
   ],
   "source": [
    "delete = []\n",
    "\n",
    "for feature in death_layer.getFeatures():\n",
    "    if feature['NAME']==\"Alaska\" or feature['NAME']==\"Hawaii\" or feature['NAME']==\"Commonwealth of the Northern Mariana Islands\" or feature['NAME']==\"Guam\" or feature['NAME']==\"American Samoa\": \n",
    "        delete.append(feature.id())\n",
    "\n",
    "res = death_layer.dataProvider().deleteFeatures(delete)"
   ]
  },
  {
   "cell_type": "markdown",
   "metadata": {},
   "source": [
    "Criar os limites e a graduação das cores"
   ]
  },
  {
   "cell_type": "code",
   "execution_count": null,
   "metadata": {},
   "outputs": [],
   "source": [
    "from qgis.PyQt import QtGui\n",
    "\n",
    "myOpacity = 1\n",
    "\n",
    "myTargetField = r'if(\"Data_Mortality_Rate\",\"Data_Mortality_Rate\",-1)'\n",
    "myRangeList = []\n",
    "\n",
    "myMin = 0\n",
    "myMax = 1\n",
    "myLabel = '< 1%'\n",
    "myColour = QtGui.QColor('#e6e6ff')\n",
    "mySymbol = QgsSymbol.defaultSymbol(death_layer.geometryType())\n",
    "mySymbol.setColor(myColour)\n",
    "myRange = QgsRendererRange(myMin, myMax, mySymbol, myLabel)\n",
    "myRangeList.append(myRange)\n",
    "\n",
    "myMin = 1\n",
    "myMax = 3\n",
    "myLabel = '1% - 3%'\n",
    "myColour = QtGui.QColor('#ff6666')\n",
    "mySymbol = QgsSymbol.defaultSymbol(death_layer.geometryType())\n",
    "mySymbol.setColor(myColour)\n",
    "myRange = QgsRendererRange(myMin, myMax, mySymbol, myLabel)\n",
    "myRangeList.append(myRange)\n",
    "\n",
    "myMin = 3\n",
    "myMax = 4\n",
    "myLabel = '3% - 4%'\n",
    "myColour = QtGui.QColor('#ff3333')\n",
    "mySymbol = QgsSymbol.defaultSymbol(death_layer.geometryType())\n",
    "mySymbol.setColor(myColour)\n",
    "myRange = QgsRendererRange(myMin, myMax, mySymbol, myLabel)\n",
    "myRangeList.append(myRange)\n",
    "\n",
    "\n",
    "myMin = 4\n",
    "myMax = 5\n",
    "myLabel = '4% - 5%'\n",
    "myColour = QtGui.QColor('#ff0000')\n",
    "mySymbol = QgsSymbol.defaultSymbol(death_layer.geometryType())\n",
    "mySymbol.setColor(myColour)\n",
    "myRange = QgsRendererRange(myMin, myMax, mySymbol, myLabel)\n",
    "myRangeList.append(myRange)\n",
    "\n",
    "myMin = 5\n",
    "myMax = 6\n",
    "myLabel = '5% - 6%'\n",
    "myColour = QtGui.QColor('#cc0000')\n",
    "mySymbol = QgsSymbol.defaultSymbol(death_layer.geometryType())\n",
    "mySymbol.setColor(myColour)\n",
    "myRange = QgsRendererRange(myMin, myMax, mySymbol, myLabel)\n",
    "myRangeList.append(myRange)\n",
    "\n",
    "myMin = 6\n",
    "myMax = 8\n",
    "myLabel = '6% - 8%'\n",
    "myColour = QtGui.QColor('#990000')\n",
    "mySymbol = QgsSymbol.defaultSymbol(death_layer.geometryType())\n",
    "mySymbol.setColor(myColour)\n",
    "myRange = QgsRendererRange(myMin, myMax, mySymbol, myLabel)\n",
    "myRangeList.append(myRange)\n",
    "\n",
    "myMin = 8\n",
    "myMax = 10\n",
    "myLabel = '8% - 10%'\n",
    "myColour = QtGui.QColor('#660000')\n",
    "mySymbol = QgsSymbol.defaultSymbol(death_layer.geometryType())\n",
    "mySymbol.setColor(myColour)\n",
    "myRange = QgsRendererRange(myMin, myMax, mySymbol, myLabel)\n",
    "myRangeList.append(myRange)\n",
    "\n",
    "myMin = 10\n",
    "myMax = 100\n",
    "myLabel = '> 14%'\n",
    "myColour = QtGui.QColor('#000000')\n",
    "mySymbol = QgsSymbol.defaultSymbol(death_layer.geometryType())\n",
    "mySymbol.setColor(myColour)\n",
    "myRange = QgsRendererRange(myMin, myMax, mySymbol, myLabel)\n",
    "myRangeList.append(myRange)\n",
    "\n",
    "myMin = -1\n",
    "myMax = -1\n",
    "myLabel = 'Sem Dados'\n",
    "myColour = QtGui.QColor('#333333')\n",
    "mySymbol = QgsSymbol.defaultSymbol(death_layer.geometryType())\n",
    "mySymbol.setColor(myColour)\n",
    "myRange = QgsRendererRange(myMin, myMax, mySymbol, myLabel)\n",
    "myRangeList.append(myRange)\n",
    "myRenderer = QgsGraduatedSymbolRenderer('', myRangeList)\n",
    "myClassificationMethod = QgsApplication.classificationMethodRegistry().method(\"EqualInterval\")\n",
    "myRenderer.setClassificationMethod(myClassificationMethod)\n",
    "myRenderer.setClassAttribute(myTargetField)\n",
    "\n",
    "death_layer.setRenderer(myRenderer)"
   ]
  },
  {
   "cell_type": "markdown",
   "metadata": {},
   "source": [
    "Layout e Imprimir a imagem"
   ]
  },
  {
   "cell_type": "code",
   "execution_count": null,
   "metadata": {},
   "outputs": [],
   "source": [
    "xt = death_layer.extent()\n",
    "width  = 1024\n",
    "height = int(width*xt.height()/xt.width())\n",
    "\n",
    "manager = project.layoutManager()\n",
    "layout = QgsPrintLayout(project)\n",
    "layout.initializeDefaults()\n",
    "manager.addLayout(layout)\n",
    "\n",
    "pc = layout.pageCollection()\n",
    "pc.page(0).attemptResize(QgsLayoutSize(width,height,QgsUnitTypes.LayoutMillimeters))\n",
    "\n",
    "map = QgsLayoutItemMap(layout)\n",
    "map.setRect(1,1,1,1)\n",
    "map.setLayers([death_layer])\n",
    "\n",
    "options = QgsMapSettings()\n",
    "options.setLayers([death_layer])\n",
    "options.setOutputSize(QSize(width, height))\n",
    "options.setExtent(xt)\n",
    "map.setExtent(xt)\n",
    "map.setBackgroundColor(QColor(255, 255, 255))\n",
    "\n",
    "layout.addLayoutItem(map)\n",
    "\n",
    "map.attemptMove(QgsLayoutPoint(0,0,QgsUnitTypes.LayoutMillimeters))\n",
    "map.attemptResize(QgsLayoutSize(width,height,QgsUnitTypes.LayoutMillimeters))\n",
    "\n",
    "legend = QgsLayoutItemLegend(layout)\n",
    "legend.setTitle(\"Legenda:\")\n",
    "layerTree = QgsLayerTree()\n",
    "layerTree.addLayer(death_layer)\n",
    "legend.model().setRootGroup(layerTree)\n",
    "\n",
    "legend.setRect(1,1,1,1)\n",
    "legend.setScale(3)\n",
    "legend.setReferencePoint(6)\n",
    "legend.attemptMove(QgsLayoutPoint(0,320,QgsUnitTypes.LayoutMillimeters))\n",
    "legend.setLinkedMap(map)\n",
    "layout.addLayoutItem(legend)\n",
    "legend.setLegendFilterByMapEnabled(True)\n",
    "legend.refresh()\n",
    "\n",
    "exporter = QgsLayoutExporter(layout)\n",
    "image = exporter.renderPageToImage(0)\n",
    "\n",
    "imgbuf= QBuffer()\n",
    "imgbuf.open(QIODevice.ReadWrite)\n",
    "image.save(imgbuf,\"PNG\")\n",
    "Image(imgbuf.data())"
   ]
  },
  {
   "cell_type": "code",
   "execution_count": null,
   "metadata": {},
   "outputs": [],
   "source": []
  }
 ],
 "metadata": {
  "kernelspec": {
   "display_name": "Python 3",
   "language": "python",
   "name": "python3"
  },
  "language_info": {
   "codemirror_mode": {
    "name": "ipython",
    "version": 3
   },
   "file_extension": ".py",
   "mimetype": "text/x-python",
   "name": "python",
   "nbconvert_exporter": "python",
   "pygments_lexer": "ipython3",
   "version": "3.7.0"
  }
 },
 "nbformat": 4,
 "nbformat_minor": 2
}
