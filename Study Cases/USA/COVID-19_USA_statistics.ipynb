{
 "cells": [
  {
   "cell_type": "markdown",
   "metadata": {},
   "source": [
    "# COVID-19 USA"
   ]
  },
  {
   "cell_type": "markdown",
   "metadata": {},
   "source": [
    "## Tiago Pinheiro - A82491"
   ]
  },
  {
   "cell_type": "code",
   "execution_count": 1,
   "metadata": {},
   "outputs": [],
   "source": [
    "import sys\n",
    "import os\n",
    "import numpy as np\n",
    "import matplotlib.pyplot as plt\n",
    "import pandas as pd\n",
    "from qgis.core import *\n",
    "from qgis.PyQt.QtGui import *\n",
    "from qgis.PyQt.QtCore import *\n",
    "from IPython.display import Image"
   ]
  },
  {
   "cell_type": "markdown",
   "metadata": {},
   "source": [
    "Start Qgis with GUI and start a project"
   ]
  },
  {
   "cell_type": "code",
   "execution_count": 2,
   "metadata": {},
   "outputs": [],
   "source": [
    "QgsApplication.setPrefixPath(r'C:\\\\OSGeo4W64\\\\apps\\\\qgis', True)\n",
    "qgs = QgsApplication([], True)\n",
    "qgs.initQgis()\n",
    "sys.path.append(r'C:\\OSGeo4W64\\apps\\qgis\\python\\plugins')\n",
    "project = QgsProject.instance()"
   ]
  },
  {
   "cell_type": "markdown",
   "metadata": {},
   "source": [
    "Download Map"
   ]
  },
  {
   "cell_type": "code",
   "execution_count": 3,
   "metadata": {},
   "outputs": [
    {
     "data": {
      "text/plain": [
       "('../../tmp/tl_2017_us_state.zip', <http.client.HTTPMessage at 0x19042ff6898>)"
      ]
     },
     "execution_count": 3,
     "metadata": {},
     "output_type": "execute_result"
    }
   ],
   "source": [
    "import urllib.request\n",
    "url = 'https://www2.census.gov/geo/tiger/TIGER2017//STATE/tl_2017_us_state.zip'\n",
    "filename = '../../tmp/tl_2017_us_state.zip'\n",
    "urllib.request.urlretrieve(url, filename)"
   ]
  },
  {
   "cell_type": "markdown",
   "metadata": {},
   "source": [
    "Unzip Map"
   ]
  },
  {
   "cell_type": "code",
   "execution_count": 4,
   "metadata": {},
   "outputs": [],
   "source": [
    "import zipfile\n",
    "with zipfile.ZipFile(filename, 'r') as zip_ref:\n",
    "    zip_ref.extractall('../../tmp')"
   ]
  },
  {
   "cell_type": "markdown",
   "metadata": {},
   "source": [
    "Load map layer"
   ]
  },
  {
   "cell_type": "code",
   "execution_count": 5,
   "metadata": {},
   "outputs": [
    {
     "name": "stdout",
     "output_type": "stream",
     "text": [
      "Sucess\n"
     ]
    }
   ],
   "source": [
    "path = \"../../tmp/tl_2017_us_state.shp\"\n",
    "map_layer = QgsVectorLayer(path, 'USA map', 'ogr')\n",
    "\n",
    "if not map_layer.isValid():\n",
    "    print(\"Failed to load the layer!\")\n",
    "else:\n",
    "    project.addMapLayer(map_layer)\n",
    "    print(\"Sucess\")"
   ]
  },
  {
   "cell_type": "markdown",
   "metadata": {},
   "source": [
    "Download CSV file"
   ]
  },
  {
   "cell_type": "code",
   "execution_count": 6,
   "metadata": {},
   "outputs": [
    {
     "name": "stdout",
     "output_type": "stream",
     "text": [
      "Today's date: 05/08/2020\n",
      "Yesterday's date: 05-07-2020\n",
      "../../tmp/05-07-2020.csv\n"
     ]
    },
    {
     "data": {
      "text/plain": [
       "('../../tmp/05-07-2020.csv', <http.client.HTTPMessage at 0x190463e1630>)"
      ]
     },
     "execution_count": 6,
     "metadata": {},
     "output_type": "execute_result"
    }
   ],
   "source": [
    "import datetime\n",
    "from datetime import date\n",
    "\n",
    "today = date.today()\n",
    "today = today.strftime(\"%m/%d/%Y\")\n",
    "print(\"Today's date:\", today)\n",
    "\n",
    "yesterday_date = date.today()-datetime.timedelta(1)\n",
    "yesterday = yesterday_date.strftime(\"%m-%d-%Y\")\n",
    "print(\"Yesterday's date:\", yesterday)\n",
    "\n",
    "path = \"../../tmp/{}.csv\".format(yesterday)\n",
    "print(path)\n",
    "\n",
    "\n",
    "import urllib.request\n",
    "url = 'https://raw.githubusercontent.com/CSSEGISandData/COVID-19/master/csse_covid_19_data/csse_covid_19_daily_reports_us/{}.csv'.format(yesterday)\n",
    "filename = '../../tmp/{}.csv'.format(yesterday)\n",
    "urllib.request.urlretrieve(url, filename)"
   ]
  },
  {
   "cell_type": "markdown",
   "metadata": {},
   "source": [
    "Load CSV file"
   ]
  },
  {
   "cell_type": "code",
   "execution_count": 11,
   "metadata": {},
   "outputs": [
    {
     "name": "stdout",
     "output_type": "stream",
     "text": [
      "Layer failed to load!\n"
     ]
    }
   ],
   "source": [
    "csv_path = \"../../tmp/{}.csv\".format(yesterday)\n",
    "csv_layer = QgsVectorLayer(csv_path, 'Data', 'delimitedtext')\n",
    "\n",
    "if not csv_layer.isValid():\n",
    "    print('Layer failed to load!')\n",
    "else:\n",
    "    project.addMapLayer(csv_layer)\n",
    "    print(\"Sucess\")"
   ]
  },
  {
   "cell_type": "markdown",
   "metadata": {},
   "source": [
    "Join layer"
   ]
  },
  {
   "cell_type": "code",
   "execution_count": 8,
   "metadata": {},
   "outputs": [],
   "source": [
    "joinName = 'Province_State'\n",
    "targetName = 'NAME'\n",
    "\n",
    "joinObject = QgsVectorLayerJoinInfo()\n",
    "joinObject.setJoinFieldName(joinName)\n",
    "joinObject.setTargetFieldName(targetName)\n",
    "joinObject.setJoinLayerId(csv_layer.id())\n",
    "joinObject.setUsingMemoryCache(True)\n",
    "joinObject.setJoinLayer(csv_layer)\n",
    "flag = map_layer.addJoin(joinObject)"
   ]
  },
  {
   "cell_type": "markdown",
   "metadata": {},
   "source": [
    "## Gráfico do número de mortes, casos confirmados e casos recuperados"
   ]
  },
  {
   "cell_type": "code",
   "execution_count": 9,
   "metadata": {
    "scrolled": false
   },
   "outputs": [
    {
     "ename": "KeyError",
     "evalue": "'Data_Deaths'",
     "output_type": "error",
     "traceback": [
      "\u001b[1;31m---------------------------------------------------------------------------\u001b[0m",
      "\u001b[1;31mKeyError\u001b[0m                                  Traceback (most recent call last)",
      "\u001b[1;32m<ipython-input-9-c993f97f9557>\u001b[0m in \u001b[0;36m<module>\u001b[1;34m\u001b[0m\n\u001b[0;32m      4\u001b[0m     \u001b[1;32mif\u001b[0m \u001b[0mfeature\u001b[0m\u001b[1;33m[\u001b[0m\u001b[1;34m'NAME'\u001b[0m\u001b[1;33m]\u001b[0m\u001b[1;33m:\u001b[0m\u001b[1;33m\u001b[0m\u001b[0m\n\u001b[0;32m      5\u001b[0m         \u001b[0mstate\u001b[0m \u001b[1;33m=\u001b[0m \u001b[0mfeature\u001b[0m\u001b[1;33m[\u001b[0m\u001b[1;34m'NAME'\u001b[0m\u001b[1;33m]\u001b[0m\u001b[1;33m\u001b[0m\u001b[0m\n\u001b[1;32m----> 6\u001b[1;33m         \u001b[1;32mif\u001b[0m \u001b[0mfeature\u001b[0m\u001b[1;33m[\u001b[0m\u001b[1;34m'Data_Deaths'\u001b[0m\u001b[1;33m]\u001b[0m\u001b[1;33m:\u001b[0m\u001b[1;33m\u001b[0m\u001b[0m\n\u001b[0m\u001b[0;32m      7\u001b[0m             \u001b[0mdeath\u001b[0m \u001b[1;33m=\u001b[0m \u001b[0mfeature\u001b[0m\u001b[1;33m[\u001b[0m\u001b[1;34m'Data_Deaths'\u001b[0m\u001b[1;33m]\u001b[0m\u001b[1;33m\u001b[0m\u001b[0m\n\u001b[0;32m      8\u001b[0m         \u001b[1;32melse\u001b[0m\u001b[1;33m:\u001b[0m\u001b[1;33m\u001b[0m\u001b[0m\n",
      "\u001b[1;31mKeyError\u001b[0m: 'Data_Deaths'"
     ]
    }
   ],
   "source": [
    "dict = []\n",
    "\n",
    "for feature in map_layer.getFeatures():\n",
    "    if feature['NAME']:\n",
    "        state = feature['NAME']\n",
    "        if feature['Data_Deaths']:\n",
    "            death = feature['Data_Deaths']\n",
    "        else:\n",
    "            death = 0\n",
    "        if feature['Data_Confirmed']:\n",
    "            confirmed = feature['Data_Confirmed']\n",
    "        else:\n",
    "            confirmed = 0\n",
    "        if feature['Data_Recovered']:\n",
    "            recovered = feature['Data_Recovered']\n",
    "        else:\n",
    "            recovered = 0\n",
    "    e = {'Name': state, 'Confirmed': confirmed, 'Death': death, 'Recovered': recovered }\n",
    "    dict.append(e)"
   ]
  },
  {
   "cell_type": "code",
   "execution_count": null,
   "metadata": {},
   "outputs": [],
   "source": [
    "size = len(dict)-5\n",
    "\n",
    "c = sorted(dict, key = lambda i: i['Confirmed'],reverse=True)\n",
    "d = sorted(dict, key = lambda i: i['Death'],reverse=True)\n",
    "r = sorted(dict, key = lambda i: i['Recovered'],reverse=True)\n",
    "\n",
    "top5confirmed = c[0:5]\n",
    "top5death = d[0:5]\n",
    "top5recovered = r[0:5]\n",
    "\n",
    "bottom5confirmed = c[size:]\n",
    "bottom5death = d[size:]"
   ]
  },
  {
   "cell_type": "markdown",
   "metadata": {},
   "source": [
    "### Top 5 Casos Confirmados"
   ]
  },
  {
   "cell_type": "code",
   "execution_count": null,
   "metadata": {},
   "outputs": [],
   "source": [
    "delta1 = [top5confirmed[0]['Confirmed'],top5confirmed[1]['Confirmed'],top5confirmed[2]['Confirmed'],top5confirmed[3]['Confirmed'],top5confirmed[4]['Confirmed']]\n",
    "states = [top5confirmed[0]['Name'],top5confirmed[1]['Name'],top5confirmed[2]['Name'],top5confirmed[3]['Name'],top5confirmed[4]['Name']]\n",
    "\n",
    "fig, ax = plt.subplots()\n",
    "index = np.arange(5)\n",
    "bar_width = 0.35\n",
    "\n",
    "rects1 = plt.bar(index, delta1, bar_width, label='Casos Confirmados')\n",
    "\n",
    "plt.ylabel('Casos Confirmados')\n",
    "plt.title('Top 5 estados com mais casos confirmados')\n",
    "plt.xticks(index + bar_width,states,)\n",
    "plt.legend()\n",
    "\n",
    "plt.tight_layout()\n",
    "plt.show()"
   ]
  },
  {
   "cell_type": "markdown",
   "metadata": {},
   "source": [
    "### Bottom 5 Casos Confirmados"
   ]
  },
  {
   "cell_type": "code",
   "execution_count": null,
   "metadata": {},
   "outputs": [],
   "source": [
    "delta1 = [bottom5confirmed[0]['Confirmed'],bottom5confirmed[1]['Confirmed'],bottom5confirmed[2]['Confirmed'],bottom5confirmed[3]['Confirmed'],bottom5confirmed[4]['Confirmed']]\n",
    "states = [bottom5confirmed[0]['Name'],bottom5confirmed[1]['Name'],bottom5confirmed[2]['Name'],bottom5confirmed[3]['Name'],bottom5confirmed[4]['Name']]\n",
    "\n",
    "fig, ax = plt.subplots()\n",
    "index = np.arange(5)\n",
    "bar_width = 0.35\n",
    "\n",
    "rects1 = plt.bar(index, delta1, bar_width, label='Casos Confirmados')\n",
    "\n",
    "plt.ylabel('Casos Confirmados')\n",
    "plt.title('Top 5 estados com menos casos confirmados')\n",
    "plt.xticks(index + bar_width,states,)\n",
    "plt.legend()\n",
    "\n",
    "plt.tight_layout()\n",
    "plt.show()"
   ]
  },
  {
   "cell_type": "markdown",
   "metadata": {},
   "source": [
    "### Top 5 Mortes"
   ]
  },
  {
   "cell_type": "code",
   "execution_count": null,
   "metadata": {},
   "outputs": [],
   "source": [
    "delta1 = [top5death[0]['Death'],top5death[1]['Death'],top5death[2]['Death'],top5death[3]['Death'],top5death[4]['Death']]\n",
    "states = [top5death[0]['Name'],top5death[1]['Name'],top5death[2]['Name'],top5death[3]['Name'],top5death[4]['Name']]\n",
    "\n",
    "fig, ax = plt.subplots()\n",
    "index = np.arange(5)\n",
    "bar_width = 0.35\n",
    "\n",
    "rects1 = plt.bar(index, delta1, bar_width, label='Mortes')\n",
    "\n",
    "plt.ylabel('Número de mortes')\n",
    "plt.title('Top 5 estados com mais mortes')\n",
    "plt.xticks(index + bar_width,states,)\n",
    "plt.legend()\n",
    "\n",
    "plt.tight_layout()\n",
    "plt.show()"
   ]
  },
  {
   "cell_type": "markdown",
   "metadata": {},
   "source": [
    "### Bottom 5 Mortes"
   ]
  },
  {
   "cell_type": "code",
   "execution_count": null,
   "metadata": {},
   "outputs": [],
   "source": [
    "delta1 = [bottom5death[0]['Death'],bottom5death[1]['Death'],bottom5death[2]['Death'],bottom5death[3]['Death'],bottom5death[4]['Death']]\n",
    "states = [bottom5death[0]['Name'],bottom5death[1]['Name'],bottom5death[2]['Name'],bottom5death[3]['Name'],bottom5death[4]['Name']]\n",
    "\n",
    "fig, ax = plt.subplots()\n",
    "index = np.arange(5)\n",
    "bar_width = 0.35\n",
    "\n",
    "rects1 = plt.bar(index, delta1, bar_width, label='Mortes')\n",
    "\n",
    "plt.ylabel('Número de mortes')\n",
    "plt.title('Top 5 estados com menos mortes')\n",
    "plt.xticks(index + bar_width,states,)\n",
    "plt.legend()\n",
    "\n",
    "plt.tight_layout()\n",
    "plt.show()"
   ]
  },
  {
   "cell_type": "markdown",
   "metadata": {},
   "source": [
    "### Top 5 Casos Recuperados"
   ]
  },
  {
   "cell_type": "code",
   "execution_count": null,
   "metadata": {
    "scrolled": true
   },
   "outputs": [],
   "source": [
    "delta1 = [top5recovered[0]['Recovered'],top5recovered[1]['Recovered'],top5recovered[2]['Recovered'],top5recovered[3]['Recovered'],top5recovered[4]['Recovered']]\n",
    "states = [top5recovered[0]['Name'],top5recovered[1]['Name'],top5recovered[2]['Name'],top5recovered[3]['Name'],top5recovered[4]['Name']]\n",
    "\n",
    "fig, ax = plt.subplots()\n",
    "index = np.arange(5)\n",
    "bar_width = 0.35\n",
    "\n",
    "rects1 = plt.bar(index, delta1, bar_width, label='Casos recuperados')\n",
    "\n",
    "plt.ylabel('Número de mortes')\n",
    "plt.title('Top 5 estados com mais pessoas recuperadas')\n",
    "plt.xticks(index + bar_width,states,)\n",
    "plt.legend()\n",
    "\n",
    "plt.tight_layout()\n",
    "plt.show()"
   ]
  },
  {
   "cell_type": "markdown",
   "metadata": {},
   "source": [
    "## Active cases"
   ]
  },
  {
   "cell_type": "code",
   "execution_count": null,
   "metadata": {},
   "outputs": [],
   "source": [
    "values = []\n",
    "labels = []\n",
    "total = 0\n",
    "lowerTotal = 0\n",
    "i = 0\n",
    "\n",
    "for feature in map_layer.getFeatures():\n",
    "    if feature['Data_Active']:\n",
    "        total += feature['Data_Active']\n",
    "\n",
    "for feature in map_layer.getFeatures():\n",
    "    if feature['Data_Active']:\n",
    "        if (feature['Data_Active']/total) > 0.025:\n",
    "            values.append(feature['Data_Active'])\n",
    "            labels.append(feature['NAME'])\n",
    "        else:\n",
    "            lowerTotal += feature['Data_Active']\n",
    "\n",
    "values.append(lowerTotal)\n",
    "labels.append(\"Others\")\n",
    "\n",
    "plt.pie(values, labels=labels, shadow=True, autopct='%1.1f%%')\n",
    "plt.axis('equal')\n",
    "plt.show()"
   ]
  },
  {
   "cell_type": "markdown",
   "metadata": {},
   "source": [
    "## Taxa de Mortalidade"
   ]
  },
  {
   "cell_type": "markdown",
   "metadata": {},
   "source": [
    "Criar uma nova camada para imprimir a taxa de mortalidade"
   ]
  },
  {
   "cell_type": "code",
   "execution_count": null,
   "metadata": {},
   "outputs": [],
   "source": [
    "death_layer = map_layer.clone()\n",
    "death_layer.setName(\"Death rate\")"
   ]
  },
  {
   "cell_type": "markdown",
   "metadata": {},
   "source": [
    "Eliminar o Alaska, o Hawaii, a Commonwealth of the Northern Mariana Islands, Guam e American Samoa."
   ]
  },
  {
   "cell_type": "code",
   "execution_count": null,
   "metadata": {},
   "outputs": [],
   "source": [
    "delete = []\n",
    "\n",
    "for feature in death_layer.getFeatures():\n",
    "    if feature['NAME']==\"Alaska\" or feature['NAME']==\"Hawaii\" or feature['NAME']==\"Commonwealth of the Northern Mariana Islands\" or feature['NAME']==\"Guam\" or feature['NAME']==\"American Samoa\": \n",
    "        delete.append(feature.id())\n",
    "\n",
    "res = death_layer.dataProvider().deleteFeatures(delete)"
   ]
  },
  {
   "cell_type": "markdown",
   "metadata": {},
   "source": [
    "Criar os limites e a graduação das cores"
   ]
  },
  {
   "cell_type": "code",
   "execution_count": null,
   "metadata": {},
   "outputs": [],
   "source": [
    "from qgis.PyQt import QtGui\n",
    "\n",
    "myOpacity = 1\n",
    "\n",
    "myTargetField = r'if(\"Data_Mortality_Rate\",\"Data_Mortality_Rate\",-1)'\n",
    "myRangeList = []\n",
    "\n",
    "myMin = 0\n",
    "myMax = 1\n",
    "myLabel = '< 1%'\n",
    "myColour = QtGui.QColor('#e6e6ff')\n",
    "mySymbol = QgsSymbol.defaultSymbol(death_layer.geometryType())\n",
    "mySymbol.setColor(myColour)\n",
    "myRange = QgsRendererRange(myMin, myMax, mySymbol, myLabel)\n",
    "myRangeList.append(myRange)\n",
    "\n",
    "myMin = 1\n",
    "myMax = 3\n",
    "myLabel = '1% - 3%'\n",
    "myColour = QtGui.QColor('#ff6666')\n",
    "mySymbol = QgsSymbol.defaultSymbol(death_layer.geometryType())\n",
    "mySymbol.setColor(myColour)\n",
    "myRange = QgsRendererRange(myMin, myMax, mySymbol, myLabel)\n",
    "myRangeList.append(myRange)\n",
    "\n",
    "myMin = 3\n",
    "myMax = 4\n",
    "myLabel = '3% - 4%'\n",
    "myColour = QtGui.QColor('#ff3333')\n",
    "mySymbol = QgsSymbol.defaultSymbol(death_layer.geometryType())\n",
    "mySymbol.setColor(myColour)\n",
    "myRange = QgsRendererRange(myMin, myMax, mySymbol, myLabel)\n",
    "myRangeList.append(myRange)\n",
    "\n",
    "\n",
    "myMin = 4\n",
    "myMax = 5\n",
    "myLabel = '4% - 5%'\n",
    "myColour = QtGui.QColor('#ff0000')\n",
    "mySymbol = QgsSymbol.defaultSymbol(death_layer.geometryType())\n",
    "mySymbol.setColor(myColour)\n",
    "myRange = QgsRendererRange(myMin, myMax, mySymbol, myLabel)\n",
    "myRangeList.append(myRange)\n",
    "\n",
    "myMin = 5\n",
    "myMax = 6\n",
    "myLabel = '5% - 6%'\n",
    "myColour = QtGui.QColor('#cc0000')\n",
    "mySymbol = QgsSymbol.defaultSymbol(death_layer.geometryType())\n",
    "mySymbol.setColor(myColour)\n",
    "myRange = QgsRendererRange(myMin, myMax, mySymbol, myLabel)\n",
    "myRangeList.append(myRange)\n",
    "\n",
    "myMin = 6\n",
    "myMax = 8\n",
    "myLabel = '6% - 8%'\n",
    "myColour = QtGui.QColor('#990000')\n",
    "mySymbol = QgsSymbol.defaultSymbol(death_layer.geometryType())\n",
    "mySymbol.setColor(myColour)\n",
    "myRange = QgsRendererRange(myMin, myMax, mySymbol, myLabel)\n",
    "myRangeList.append(myRange)\n",
    "\n",
    "myMin = 8\n",
    "myMax = 10\n",
    "myLabel = '8% - 10%'\n",
    "myColour = QtGui.QColor('#660000')\n",
    "mySymbol = QgsSymbol.defaultSymbol(death_layer.geometryType())\n",
    "mySymbol.setColor(myColour)\n",
    "myRange = QgsRendererRange(myMin, myMax, mySymbol, myLabel)\n",
    "myRangeList.append(myRange)\n",
    "\n",
    "myMin = 10\n",
    "myMax = 100\n",
    "myLabel = '> 14%'\n",
    "myColour = QtGui.QColor('#000000')\n",
    "mySymbol = QgsSymbol.defaultSymbol(death_layer.geometryType())\n",
    "mySymbol.setColor(myColour)\n",
    "myRange = QgsRendererRange(myMin, myMax, mySymbol, myLabel)\n",
    "myRangeList.append(myRange)\n",
    "\n",
    "myMin = -1\n",
    "myMax = -1\n",
    "myLabel = 'Sem Dados'\n",
    "myColour = QtGui.QColor('#333333')\n",
    "mySymbol = QgsSymbol.defaultSymbol(death_layer.geometryType())\n",
    "mySymbol.setColor(myColour)\n",
    "myRange = QgsRendererRange(myMin, myMax, mySymbol, myLabel)\n",
    "myRangeList.append(myRange)\n",
    "myRenderer = QgsGraduatedSymbolRenderer('', myRangeList)\n",
    "myClassificationMethod = QgsApplication.classificationMethodRegistry().method(\"EqualInterval\")\n",
    "myRenderer.setClassificationMethod(myClassificationMethod)\n",
    "myRenderer.setClassAttribute(myTargetField)\n",
    "\n",
    "death_layer.setRenderer(myRenderer)"
   ]
  },
  {
   "cell_type": "markdown",
   "metadata": {},
   "source": [
    "Layout e Imprimir a imagem"
   ]
  },
  {
   "cell_type": "code",
   "execution_count": null,
   "metadata": {},
   "outputs": [],
   "source": [
    "xt = death_layer.extent()\n",
    "width  = 1024\n",
    "height = int(width*xt.height()/xt.width())\n",
    "\n",
    "manager = project.layoutManager()\n",
    "layout = QgsPrintLayout(project)\n",
    "layout.initializeDefaults()\n",
    "manager.addLayout(layout)\n",
    "\n",
    "pc = layout.pageCollection()\n",
    "pc.page(0).attemptResize(QgsLayoutSize(width,height,QgsUnitTypes.LayoutMillimeters))\n",
    "\n",
    "map = QgsLayoutItemMap(layout)\n",
    "map.setRect(1,1,1,1)\n",
    "map.setLayers([death_layer])\n",
    "\n",
    "options = QgsMapSettings()\n",
    "options.setLayers([death_layer])\n",
    "options.setOutputSize(QSize(width, height))\n",
    "options.setExtent(xt)\n",
    "map.setExtent(xt)\n",
    "map.setBackgroundColor(QColor(255, 255, 255))\n",
    "\n",
    "layout.addLayoutItem(map)\n",
    "\n",
    "map.attemptMove(QgsLayoutPoint(0,0,QgsUnitTypes.LayoutMillimeters))\n",
    "map.attemptResize(QgsLayoutSize(width,height,QgsUnitTypes.LayoutMillimeters))\n",
    "\n",
    "legend = QgsLayoutItemLegend(layout)\n",
    "legend.setTitle(\"Legenda:\")\n",
    "layerTree = QgsLayerTree()\n",
    "layerTree.addLayer(death_layer)\n",
    "legend.model().setRootGroup(layerTree)\n",
    "\n",
    "legend.setRect(1,1,1,1)\n",
    "legend.setScale(3)\n",
    "legend.setReferencePoint(6)\n",
    "legend.attemptMove(QgsLayoutPoint(0,320,QgsUnitTypes.LayoutMillimeters))\n",
    "legend.setLinkedMap(map)\n",
    "layout.addLayoutItem(legend)\n",
    "legend.setLegendFilterByMapEnabled(True)\n",
    "legend.refresh()\n",
    "\n",
    "exporter = QgsLayoutExporter(layout)\n",
    "image = exporter.renderPageToImage(0)\n",
    "\n",
    "imgbuf= QBuffer()\n",
    "imgbuf.open(QIODevice.ReadWrite)\n",
    "image.save(imgbuf,\"PNG\")\n",
    "Image(imgbuf.data())"
   ]
  },
  {
   "cell_type": "code",
   "execution_count": null,
   "metadata": {},
   "outputs": [],
   "source": []
  }
 ],
 "metadata": {
  "kernelspec": {
   "display_name": "Python 3",
   "language": "python",
   "name": "python3"
  },
  "language_info": {
   "codemirror_mode": {
    "name": "ipython",
    "version": 3
   },
   "file_extension": ".py",
   "mimetype": "text/x-python",
   "name": "python",
   "nbconvert_exporter": "python",
   "pygments_lexer": "ipython3",
   "version": "3.7.0"
  }
 },
 "nbformat": 4,
 "nbformat_minor": 2
}
