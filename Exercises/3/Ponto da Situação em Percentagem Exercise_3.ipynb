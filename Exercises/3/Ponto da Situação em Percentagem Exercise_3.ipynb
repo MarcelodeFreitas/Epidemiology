{
 "cells": [
  {
   "cell_type": "markdown",
   "metadata": {},
   "source": [
    "# Exercício QGIS\n",
    "\n",
    "Considere o \"Ponto da Situação\", como apresentado pela DGS. Na imagem, o ponto da situação refere-se a 14 de maio de 2020. Estes dados aparecem agregados pelas regiões do Continente, designadas NUTS II, segundo a Nomenclatura das Unidades Territoriais para Fins Estatísticos (NUTS), estabelecida para a União Europeia.\n",
    "\n",
    "![](imagens/situação%20em%2020200514.png)\n",
    "\n",
    "O Norte aparece com muitos mais casos do que as outras regiões. Será que assim é? \n",
    "\n",
    "Faça um mapa semelhante, mas com a indicação do número de casos em percentagem da população, para cada uma das regiões NUTS II do Continente.\n",
    "\n",
    "Use os dados geográficos do INE, disponíveis em:\n",
    "\n",
    "1.  [NUTS II do Continente](http://inspire.ine.pt/SU/atom/gml/SU_StatisticalUnits_NUTSIII2013_PTCont_EPSG3763.zip)\n",
    "1.  [NUTS III do Continente](http://inspire.ine.pt/SU/atom/gml/SU_StatisticalUnits_NUTSIII2013_PTCont_EPSG3763.zip) (não são necessários; coincidem com os distritos)\n",
    "\n",
    "Os dados estatísticos do INE, disponíveis em:\n",
    "\n",
    "1.  [Censos 2011 - Importação dos principais dados alfanuméricos e geográficos (BGRI) ](http://mapas.ine.pt/download/index2011.phtml)\n",
    "\n",
    "(Em alternatica a descarregar toda a BGRI, tem os principais dados, neste [BGRI11_PT.csv.zip](dados/BGRI11_PT.csv.zip))\n",
    "\n",
    "Nos dados da BGRI, interessa-nos apenas o valor da variável `N_INDIVIDUOS_RESIDENT` para as entradas com `NIVEL == 3`.\n",
    "\n",
    "ANO\t    | GEO_COD_DSG\t| NIVEL\t    | NIVEL_DSG\t| N_INDIVIDUOS_RESIDENT\n",
    "--------|---------------|-----------|-----------|---\n",
    "2011\t| Norte\t        | 3\t        | NUT2\t    | 3689682\n",
    "2011\t| Algarve\t    | 3\t        | NUT2\t    | 451006\n",
    "2011\t| Centro\t    | 3\t        | NUT2\t    | 2327755\n",
    "2011\t| Lisboa\t    | 3\t        | NUT2\t    | 2821876\n",
    "2011\t| Alentejo\t    | 3\t        | NUT2\t    | 757302\n",
    "\n",
    "Os dados do número de contágios por distrito está disponível em:\n",
    "\n",
    "1.  [covid-pt-latest.gpkg](../covid-pt-latest.gpkg)"
   ]
  }
 ],
 "metadata": {
  "language_info": {
   "codemirror_mode": {
    "name": "ipython",
    "version": 3
   },
   "file_extension": ".py",
   "mimetype": "text/x-python",
   "name": "python",
   "nbconvert_exporter": "python",
   "pygments_lexer": "ipython3",
   "version": 3
  },
  "orig_nbformat": 2
 },
 "nbformat": 4,
 "nbformat_minor": 2
}