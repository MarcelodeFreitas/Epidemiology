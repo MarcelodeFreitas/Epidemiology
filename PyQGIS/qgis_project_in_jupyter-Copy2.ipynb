{
 "cells": [
  {
   "cell_type": "markdown",
   "metadata": {},
   "source": [
    "## Exploração de um projeto QGIS\n",
    "\n",
    "O QGIS permite ser utilizado a partir do Python, de acordo com a API [PyQGIS](https://docs.qgis.org/testing/en/docs/pyqgis_developer_cookbook/).\n",
    "\n",
    "Neste notebook usa-se o projeto QGIS existente (disponível no repositório).\n",
    "\n",
    "O objetivo é usar as composições de impressão existentes.\n",
    "\n",
    "Desta forma, podem-se preprar sofisticadas composições de impressão no QGIS, com a GUI e depois utilizá-las num notebook."
   ]
  },
  {
   "cell_type": "markdown",
   "metadata": {},
   "source": [
    "## Inicialização\n",
    "\n",
    "Nota: esta é uma ligação ao QGIS (não standard). Retire os paths específicos aqui usados."
   ]
  },
  {
   "cell_type": "code",
   "execution_count": 1,
   "metadata": {},
   "outputs": [],
   "source": [
    "import os\n",
    "import sys\n",
    "from osgeo import ogr\n",
    "sys.path.insert(0,'/usr/local/share/qgis/python')\n",
    "from qgis.core import *\n",
    "QgsApplication.setPrefixPath(\"/usr/local\", True) \n",
    "from qgis.gui import *\n",
    "from qgis import processing\n",
    "\n",
    "from qgis.PyQt.QtGui import QColor, QImage\n",
    "from qgis.PyQt.QtCore import QSize, QBuffer, QIODevice\n",
    "\n",
    "qgs = QgsApplication([], False)\n",
    "qgs.initQgis()"
   ]
  },
  {
   "cell_type": "code",
   "execution_count": 2,
   "metadata": {},
   "outputs": [
    {
     "data": {
      "text/plain": [
       "('../QGIS Projects/dados-dgs.qgz', <http.client.HTTPMessage at 0x1be20170860>)"
      ]
     },
     "execution_count": 2,
     "metadata": {},
     "output_type": "execute_result"
    }
   ],
   "source": [
    "import urllib.request\n",
    "url = 'https://raw.githubusercontent.com/jgrocha/covid-pt/master/qgis/dados-dgs.qgz'\n",
    "filename = '../QGIS Projects/dados-dgs.qgz'\n",
    "urllib.request.urlretrieve(url, filename)"
   ]
  },
  {
   "cell_type": "markdown",
   "metadata": {},
   "source": [
    "#### Abrir o projeto existente"
   ]
  },
  {
   "cell_type": "code",
   "execution_count": null,
   "metadata": {
    "scrolled": true
   },
   "outputs": [
    {
     "name": "stdout",
     "output_type": "stream",
     "text": [
      "Abrindo o projeto guardado como ../QGIS Projects/dados-dgs.qgz...\n"
     ]
    }
   ],
   "source": [
    "projectName = '../QGIS Projects/dados-dgs.qgz'\n",
    "project = QgsProject.instance()\n",
    "# demora a ler o projeto...\n",
    "print(\"Abrindo o projeto guardado como {}...\".format(projectName))\n",
    "project.read(projectName)\n",
    "print(\"... projeto {} pronto para processar!\".format(project.title()))"
   ]
  },
  {
   "cell_type": "markdown",
   "metadata": {},
   "source": [
    "### Refresh dos layers\n",
    "Garantir que o QGIS vai buscar os dados de novo à fonte dos mesmos."
   ]
  },
  {
   "cell_type": "code",
   "execution_count": null,
   "metadata": {},
   "outputs": [],
   "source": [
    "for layer in QgsProject.instance().mapLayers().values():\n",
    "    print('reload layer {}'.format( layer.name() ))\n",
    "    layer.reload()"
   ]
  },
  {
   "cell_type": "markdown",
   "metadata": {},
   "source": [
    "### Pedir uma composição existente"
   ]
  },
  {
   "cell_type": "code",
   "execution_count": null,
   "metadata": {},
   "outputs": [],
   "source": [
    "from datetime import datetime\n",
    "altdate = datetime.now()\n",
    "\n",
    "import urllib.request\n",
    "url = 'https://raw.githubusercontent.com/jgrocha/covid-pt/master/mapas/distrito_continente_{}.png'.format( altdate.strftime(\"%Y%m%d\") )\n",
    "print(url)\n",
    "filename = '../tmp/concelho_continente_{}.png'.format( altdate.strftime(\"%Y%m%d\") )\n",
    "urllib.request.urlretrieve(url, filename)\n",
    "\n",
    "manager = project.layoutManager()\n",
    "\n",
    "layoutName = 'concelho_continente'\n",
    "#imagem_concelhos = '../tmp/concelho_continente_{}.png'.format( altdate.strftime(\"%Y%m%d\") )\n",
    "layout = manager.layoutByName(layoutName)\n",
    "if layout:\n",
    "    titulo = layout.itemById('titulo');\n",
    "    titulo.setText(\"Casos de COVID-19 confirmados por concelho\\n{}\".format( altdate.strftime(\"%A, %d de %B de %Y\") ))\n",
    "    exporter = QgsLayoutExporter(layout)\n",
    "    # print(\"A exportar a composição {} em PDF...\".format(layoutName))\n",
    "    # exporter.exportToPdf('distrito_continente_{}.pdf'.format(args.date), QgsLayoutExporter.PdfExportSettings())\n",
    "    print(\"A exportar a composição {} em PNG...\".format(layoutName))\n",
    "    exporter.exportToImage( imagem_concelhos, QgsLayoutExporter.ImageExportSettings() )\n",
    "    print(\"Feito!\")\n",
    "else:\n",
    "    print('Problema a ler as composições do projeto')"
   ]
  },
  {
   "cell_type": "markdown",
   "metadata": {},
   "source": [
    "### Render da imagem\n",
    "Por simplicidade, a imagem foi exportada para ficheiro e é agora renderizada."
   ]
  },
  {
   "cell_type": "code",
   "execution_count": null,
   "metadata": {},
   "outputs": [],
   "source": [
    "from IPython.display import Image\n",
    "Image( imagem_concelhos )"
   ]
  },
  {
   "cell_type": "code",
   "execution_count": null,
   "metadata": {},
   "outputs": [],
   "source": []
  },
  {
   "cell_type": "code",
   "execution_count": null,
   "metadata": {},
   "outputs": [],
   "source": []
  }
 ],
 "metadata": {
  "kernelspec": {
   "display_name": "Python 3",
   "language": "python",
   "name": "python3"
  },
  "language_info": {
   "codemirror_mode": {
    "name": "ipython",
    "version": 3
   },
   "file_extension": ".py",
   "mimetype": "text/x-python",
   "name": "python",
   "nbconvert_exporter": "python",
   "pygments_lexer": "ipython3",
   "version": "3.7.0"
  }
 },
 "nbformat": 4,
 "nbformat_minor": 2
}
